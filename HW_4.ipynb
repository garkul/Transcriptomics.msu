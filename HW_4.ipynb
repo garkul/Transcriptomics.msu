{
  "nbformat": 4,
  "nbformat_minor": 0,
  "metadata": {
    "colab": {
      "provenance": [],
      "authorship_tag": "ABX9TyPh9Jl7PDZnZr0N2JX6GRcA",
      "include_colab_link": true
    },
    "kernelspec": {
      "name": "python3",
      "display_name": "Python 3"
    },
    "language_info": {
      "name": "python"
    }
  },
  "cells": [
    {
      "cell_type": "markdown",
      "metadata": {
        "id": "view-in-github",
        "colab_type": "text"
      },
      "source": [
        "<a href=\"https://colab.research.google.com/github/garkul/Transcriptomics.msu/blob/master/HW_4.ipynb\" target=\"_parent\"><img src=\"https://colab.research.google.com/assets/colab-badge.svg\" alt=\"Open In Colab\"/></a>"
      ]
    },
    {
      "cell_type": "markdown",
      "source": [
        "<h1>Домашнее задание 4</h1>\n",
        "<h3> Гаркуль Лидия 4 курс ФББ</h3>\n",
        "\n",
        "<b>Задание:</b>\n",
        "Проведите аналогичный анализ с помощью DESeq2 и сравните его результаты с результатами edgeR и реализованной нами GLM (можете построить scatter plot для p-value, полученных разными методами).\n",
        "\n",
        "В чем основные различия используемых моделей и тестов?\n"
      ],
      "metadata": {
        "id": "VLd-mCoQe1rg"
      }
    },
    {
      "cell_type": "markdown",
      "source": [
        "## Установка пакетов и импорт данных:"
      ],
      "metadata": {
        "id": "PNfSLP2ggXFG"
      }
    },
    {
      "cell_type": "code",
      "source": [
        "!apt-get install libgmp3-dev libcairo2-dev libharfbuzz-dev libfribidi-dev libudunits2-dev\n",
        "!gdown \"1W0TuuQospxcasOX5cQdhT_Xd-k7-QAck&confirm=t\"\n",
        "!tar xf library.tar.gz"
      ],
      "metadata": {
        "colab": {
          "base_uri": "https://localhost:8080/"
        },
        "id": "9omMzAeVe2vz",
        "outputId": "6765af3f-ac9b-480c-a32c-7430cdc75bb9"
      },
      "execution_count": null,
      "outputs": [
        {
          "output_type": "stream",
          "name": "stdout",
          "text": [
            "Reading package lists... Done\n",
            "Building dependency tree       \n",
            "Reading state information... Done\n",
            "libharfbuzz-dev is already the newest version (1.7.2-1ubuntu1).\n",
            "libharfbuzz-dev set to manually installed.\n",
            "The following package was automatically installed and is no longer required:\n",
            "  libnvidia-common-460\n",
            "Use 'apt autoremove' to remove it.\n",
            "The following additional packages will be installed:\n",
            "  libcairo-script-interpreter2 libgmp-dev libgmpxx4ldbl libpixman-1-dev\n",
            "  libudunits2-0 libudunits2-data libxcb-shm0-dev\n",
            "Suggested packages:\n",
            "  libcairo2-doc gmp-doc libgmp10-doc libmpfr-dev\n",
            "The following NEW packages will be installed:\n",
            "  libcairo-script-interpreter2 libcairo2-dev libfribidi-dev libgmp-dev\n",
            "  libgmp3-dev libgmpxx4ldbl libpixman-1-dev libudunits2-0 libudunits2-data\n",
            "  libudunits2-dev libxcb-shm0-dev\n",
            "0 upgraded, 11 newly installed, 0 to remove and 7 not upgraded.\n",
            "Need to get 1,735 kB of archives.\n",
            "After this operation, 6,864 kB of additional disk space will be used.\n",
            "Get:1 http://archive.ubuntu.com/ubuntu bionic-updates/main amd64 libcairo-script-interpreter2 amd64 1.15.10-2ubuntu0.1 [53.5 kB]\n",
            "Get:2 http://archive.ubuntu.com/ubuntu bionic-updates/main amd64 libpixman-1-dev amd64 0.34.0-2ubuntu0.1 [244 kB]\n",
            "Get:3 http://archive.ubuntu.com/ubuntu bionic-updates/main amd64 libxcb-shm0-dev amd64 1.13-2~ubuntu18.04 [6,684 B]\n",
            "Get:4 http://archive.ubuntu.com/ubuntu bionic-updates/main amd64 libcairo2-dev amd64 1.15.10-2ubuntu0.1 [626 kB]\n",
            "Get:5 http://archive.ubuntu.com/ubuntu bionic-updates/main amd64 libfribidi-dev amd64 0.19.7-2ubuntu0.1 [42.5 kB]\n",
            "Get:6 http://archive.ubuntu.com/ubuntu bionic-updates/main amd64 libgmpxx4ldbl amd64 2:6.1.2+dfsg-2ubuntu0.1 [8,984 B]\n",
            "Get:7 http://archive.ubuntu.com/ubuntu bionic-updates/main amd64 libgmp-dev amd64 2:6.1.2+dfsg-2ubuntu0.1 [316 kB]\n",
            "Get:8 http://archive.ubuntu.com/ubuntu bionic-updates/main amd64 libgmp3-dev amd64 2:6.1.2+dfsg-2ubuntu0.1 [2,012 B]\n",
            "Get:9 http://archive.ubuntu.com/ubuntu bionic/universe amd64 libudunits2-data all 2.2.26-1 [18.7 kB]\n",
            "Get:10 http://archive.ubuntu.com/ubuntu bionic/universe amd64 libudunits2-0 amd64 2.2.26-1 [54.3 kB]\n",
            "Get:11 http://archive.ubuntu.com/ubuntu bionic/universe amd64 libudunits2-dev amd64 2.2.26-1 [362 kB]\n",
            "Fetched 1,735 kB in 1s (1,765 kB/s)\n",
            "Selecting previously unselected package libcairo-script-interpreter2:amd64.\n",
            "(Reading database ... 124015 files and directories currently installed.)\n",
            "Preparing to unpack .../00-libcairo-script-interpreter2_1.15.10-2ubuntu0.1_amd64.deb ...\n",
            "Unpacking libcairo-script-interpreter2:amd64 (1.15.10-2ubuntu0.1) ...\n",
            "Selecting previously unselected package libpixman-1-dev:amd64.\n",
            "Preparing to unpack .../01-libpixman-1-dev_0.34.0-2ubuntu0.1_amd64.deb ...\n",
            "Unpacking libpixman-1-dev:amd64 (0.34.0-2ubuntu0.1) ...\n",
            "Selecting previously unselected package libxcb-shm0-dev:amd64.\n",
            "Preparing to unpack .../02-libxcb-shm0-dev_1.13-2~ubuntu18.04_amd64.deb ...\n",
            "Unpacking libxcb-shm0-dev:amd64 (1.13-2~ubuntu18.04) ...\n",
            "Selecting previously unselected package libcairo2-dev:amd64.\n",
            "Preparing to unpack .../03-libcairo2-dev_1.15.10-2ubuntu0.1_amd64.deb ...\n",
            "Unpacking libcairo2-dev:amd64 (1.15.10-2ubuntu0.1) ...\n",
            "Selecting previously unselected package libfribidi-dev.\n",
            "Preparing to unpack .../04-libfribidi-dev_0.19.7-2ubuntu0.1_amd64.deb ...\n",
            "Unpacking libfribidi-dev (0.19.7-2ubuntu0.1) ...\n",
            "Selecting previously unselected package libgmpxx4ldbl:amd64.\n",
            "Preparing to unpack .../05-libgmpxx4ldbl_2%3a6.1.2+dfsg-2ubuntu0.1_amd64.deb ...\n",
            "Unpacking libgmpxx4ldbl:amd64 (2:6.1.2+dfsg-2ubuntu0.1) ...\n",
            "Selecting previously unselected package libgmp-dev:amd64.\n",
            "Preparing to unpack .../06-libgmp-dev_2%3a6.1.2+dfsg-2ubuntu0.1_amd64.deb ...\n",
            "Unpacking libgmp-dev:amd64 (2:6.1.2+dfsg-2ubuntu0.1) ...\n",
            "Selecting previously unselected package libgmp3-dev.\n",
            "Preparing to unpack .../07-libgmp3-dev_2%3a6.1.2+dfsg-2ubuntu0.1_amd64.deb ...\n",
            "Unpacking libgmp3-dev (2:6.1.2+dfsg-2ubuntu0.1) ...\n",
            "Selecting previously unselected package libudunits2-data.\n",
            "Preparing to unpack .../08-libudunits2-data_2.2.26-1_all.deb ...\n",
            "Unpacking libudunits2-data (2.2.26-1) ...\n",
            "Selecting previously unselected package libudunits2-0:amd64.\n",
            "Preparing to unpack .../09-libudunits2-0_2.2.26-1_amd64.deb ...\n",
            "Unpacking libudunits2-0:amd64 (2.2.26-1) ...\n",
            "Selecting previously unselected package libudunits2-dev.\n",
            "Preparing to unpack .../10-libudunits2-dev_2.2.26-1_amd64.deb ...\n",
            "Unpacking libudunits2-dev (2.2.26-1) ...\n",
            "Setting up libcairo-script-interpreter2:amd64 (1.15.10-2ubuntu0.1) ...\n",
            "Setting up libxcb-shm0-dev:amd64 (1.13-2~ubuntu18.04) ...\n",
            "Setting up libudunits2-data (2.2.26-1) ...\n",
            "Setting up libfribidi-dev (0.19.7-2ubuntu0.1) ...\n",
            "Setting up libpixman-1-dev:amd64 (0.34.0-2ubuntu0.1) ...\n",
            "Setting up libgmpxx4ldbl:amd64 (2:6.1.2+dfsg-2ubuntu0.1) ...\n",
            "Setting up libudunits2-0:amd64 (2.2.26-1) ...\n",
            "Setting up libgmp-dev:amd64 (2:6.1.2+dfsg-2ubuntu0.1) ...\n",
            "Setting up libcairo2-dev:amd64 (1.15.10-2ubuntu0.1) ...\n",
            "Setting up libudunits2-dev (2.2.26-1) ...\n",
            "Setting up libgmp3-dev (2:6.1.2+dfsg-2ubuntu0.1) ...\n",
            "Processing triggers for man-db (2.8.3-2ubuntu0.1) ...\n",
            "Processing triggers for libc-bin (2.27-3ubuntu1.6) ...\n",
            "Downloading...\n",
            "From: https://drive.google.com/uc?id=1W0TuuQospxcasOX5cQdhT_Xd-k7-QAck&confirm=t\n",
            "To: /content/library.tar.gz\n",
            "100% 2.33G/2.33G [00:11<00:00, 203MB/s]\n",
            "tar: Removing leading `/' from member names\n"
          ]
        }
      ]
    },
    {
      "cell_type": "code",
      "source": [
        "!pip install rpy2==3.5.1\n",
        "%load_ext rpy2.ipython\n",
        "%R .libPaths(\"usr/local/lib/R/site-library/\")\n",
        "\n",
        "!Rscript -e 'install.packages(\"dplyr\")'\n",
        "!Rscript -e 'install.packages(\"ggplot2\")'\n",
        "!Rscript -e 'install.packages(\"tidyr\")'\n",
        "!Rscript -e 'install.packages(\"stringr\")'\n",
        "!Rscript -e 'install.packages(\"statmod\")'\n",
        "!Rscript -e 'install.packages(\"MASS\")'"
      ],
      "metadata": {
        "id": "qZl0siKhgdpY"
      },
      "execution_count": null,
      "outputs": []
    },
    {
      "cell_type": "code",
      "source": [
        "%%R\n",
        "\n",
        "suppressPackageStartupMessages({\n",
        "  library(edgeR)\n",
        "  library(stringr)\n",
        "  library(dplyr)\n",
        "  library(tidyr)\n",
        "  library(tximport)\n",
        "  library(EnsDb.Mmusculus.v79)\n",
        "  library(ggplot2)\n",
        "  library(MASS)\n",
        "})"
      ],
      "metadata": {
        "id": "xSvDpfRHo_tn"
      },
      "execution_count": null,
      "outputs": []
    },
    {
      "cell_type": "code",
      "source": [
        "!wget -r -np -R \"index.html*\" http://arcuda.skoltech.ru/~d.bobrovsky/teaching/transcriptomics/samples/"
      ],
      "metadata": {
        "id": "9aZp4Iy1pUy1"
      },
      "execution_count": null,
      "outputs": []
    },
    {
      "cell_type": "code",
      "source": [
        "!mkdir data\n",
        "!mkdir data/samples\n",
        "!mv arcuda.skoltech.ru/~d.bobrovsky/teaching/transcriptomics/samples/* data/samples"
      ],
      "metadata": {
        "id": "0OHHA7TKOSzK"
      },
      "execution_count": null,
      "outputs": []
    },
    {
      "cell_type": "markdown",
      "source": [
        "Импорт данных из salmon с помощью tximport"
      ],
      "metadata": {
        "id": "pRTihNAwSDT0"
      }
    },
    {
      "cell_type": "code",
      "source": [
        "%%R\n",
        "\n",
        "txdb <- EnsDb.Mmusculus.v79\n",
        "tx2gene <- transcripts(txdb,return.type=\"DataFrame\")\n",
        "tx2gene <- tx2gene[c(\"tx_id\",\"gene_id\")]\n",
        "\n",
        "samples <- str_c(c(str_c(\"wt_water_\",c(1,2,3,4)),\n",
        "                   str_c(\"wt_bicarb_\",c(1,2,3,4)),\n",
        "                   str_c(\"ko_water_\",c(1,2,3,4)),\n",
        "                   str_c(\"ko_bicarb_\",c(1,2,3,4))),\".sf\")\n",
        "files <- str_c(\"data/samples/\",samples)"
      ],
      "metadata": {
        "id": "kPYmTAM_SRlU"
      },
      "execution_count": null,
      "outputs": []
    },
    {
      "cell_type": "code",
      "source": [
        "%%R\n",
        "\n",
        "txi <- tximport(files, type = \"salmon\", tx2gene = tx2gene, ignoreTxVersion=T)\n",
        "#tpm <- tximport(files, type = \"salmon\", tx2gene = tx2gene, ignoreTxVersion=T, countsFromAbundance = \"lengthScaledTPM\")$counts"
      ],
      "metadata": {
        "id": "VunIchljS0QX",
        "colab": {
          "base_uri": "https://localhost:8080/"
        },
        "outputId": "6b167589-72a1-4db8-96d0-2e0f908e38a3"
      },
      "execution_count": null,
      "outputs": [
        {
          "output_type": "stream",
          "name": "stderr",
          "text": [
            "WARNING:rpy2.rinterface_lib.callbacks:R[write to console]: reading in files with read_tsv\n",
            "\n",
            "WARNING:rpy2.rinterface_lib.callbacks:R[write to console]: 1 \n",
            "WARNING:rpy2.rinterface_lib.callbacks:R[write to console]: 2 \n",
            "WARNING:rpy2.rinterface_lib.callbacks:R[write to console]: 3 \n",
            "WARNING:rpy2.rinterface_lib.callbacks:R[write to console]: 4 \n",
            "WARNING:rpy2.rinterface_lib.callbacks:R[write to console]: 5 \n",
            "WARNING:rpy2.rinterface_lib.callbacks:R[write to console]: 6 \n",
            "WARNING:rpy2.rinterface_lib.callbacks:R[write to console]: 7 \n",
            "WARNING:rpy2.rinterface_lib.callbacks:R[write to console]: 8 \n",
            "WARNING:rpy2.rinterface_lib.callbacks:R[write to console]: 9 \n",
            "WARNING:rpy2.rinterface_lib.callbacks:R[write to console]: 10 \n",
            "WARNING:rpy2.rinterface_lib.callbacks:R[write to console]: 11 \n",
            "WARNING:rpy2.rinterface_lib.callbacks:R[write to console]: 12 \n",
            "WARNING:rpy2.rinterface_lib.callbacks:R[write to console]: 13 \n",
            "WARNING:rpy2.rinterface_lib.callbacks:R[write to console]: 14 \n",
            "WARNING:rpy2.rinterface_lib.callbacks:R[write to console]: 15 \n",
            "WARNING:rpy2.rinterface_lib.callbacks:R[write to console]: 16 \n",
            "WARNING:rpy2.rinterface_lib.callbacks:R[write to console]: \n",
            "\n",
            "WARNING:rpy2.rinterface_lib.callbacks:R[write to console]: transcripts missing from tx2gene: 43521\n",
            "\n",
            "WARNING:rpy2.rinterface_lib.callbacks:R[write to console]: summarizing abundance\n",
            "\n",
            "WARNING:rpy2.rinterface_lib.callbacks:R[write to console]: summarizing counts\n",
            "\n",
            "WARNING:rpy2.rinterface_lib.callbacks:R[write to console]: summarizing length\n",
            "\n"
          ]
        }
      ]
    },
    {
      "cell_type": "markdown",
      "source": [
        "#Предобработка данных с помощью для дальнейшей работы с DESeq2"
      ],
      "metadata": {
        "id": "xpUxEDQ2QStw"
      }
    },
    {
      "cell_type": "code",
      "source": [
        "%%R\n",
        "library(DESeq2)\n",
        "sampleTable <- data.frame(condition = factor(rep(c(\"wt_water_\", \"wt_bicarb_\", \"ko_water_\", \"ko_bicarb_\"), each = 4)), knock = factor(rep(c(\"wt\",\"ko\"), each =8)), treat = factor(c(rep(\"water\",4),rep(\"bicarb\",4),rep(\"water\",4),rep(\"bicarb\",4))))\n",
        "rownames(sampleTable) <- colnames(txi$counts)"
      ],
      "metadata": {
        "id": "de0GHZIwTpQG"
      },
      "execution_count": null,
      "outputs": []
    },
    {
      "cell_type": "code",
      "source": [
        "%%R\n",
        "dds <- DESeqDataSetFromTximport(txi, sampleTable, ~condition)\n",
        "dds"
      ],
      "metadata": {
        "colab": {
          "base_uri": "https://localhost:8080/"
        },
        "id": "ZO9l_GwPfhUF",
        "outputId": "64b50a91-d242-4213-f1e5-56acfe1c0d85"
      },
      "execution_count": null,
      "outputs": [
        {
          "output_type": "stream",
          "name": "stderr",
          "text": [
            "WARNING:rpy2.rinterface_lib.callbacks:R[write to console]: using counts and average transcript lengths from tximport\n",
            "\n"
          ]
        },
        {
          "output_type": "stream",
          "name": "stdout",
          "text": [
            "class: DESeqDataSet \n",
            "dim: 39210 16 \n",
            "metadata(1): version\n",
            "assays(2): counts avgTxLength\n",
            "rownames(39210): ENSMUSG00000000001 ENSMUSG00000000003 ...\n",
            "  ENSMUSG00000104526 ENSMUSG00000104527\n",
            "rowData names(0):\n",
            "colnames: NULL\n",
            "colData names(3): condition knock treat\n"
          ]
        }
      ]
    },
    {
      "cell_type": "markdown",
      "source": [
        "dds содержит информацию о 39210 генах. Отбросим все не белок кодирующие:"
      ],
      "metadata": {
        "id": "lysCt0fjf4eP"
      }
    },
    {
      "cell_type": "code",
      "source": [
        "!wget -O data/mouse_mart.csv http://arcuda.skoltech.ru/~d.bobrovsky/teaching/transcriptomics/mouse_mart.csv"
      ],
      "metadata": {
        "colab": {
          "base_uri": "https://localhost:8080/"
        },
        "id": "kIL1KVSJZKoX",
        "outputId": "c8b6f08f-3743-4e0a-fa11-f263b3557bd9"
      },
      "execution_count": null,
      "outputs": [
        {
          "output_type": "stream",
          "name": "stdout",
          "text": [
            "--2022-11-22 16:39:01--  http://arcuda.skoltech.ru/~d.bobrovsky/teaching/transcriptomics/mouse_mart.csv\n",
            "Resolving arcuda.skoltech.ru (arcuda.skoltech.ru)... 195.133.216.197\n",
            "Connecting to arcuda.skoltech.ru (arcuda.skoltech.ru)|195.133.216.197|:80... connected.\n",
            "HTTP request sent, awaiting response... 200 OK\n",
            "Length: 13518751 (13M)\n",
            "Saving to: ‘data/mouse_mart.csv’\n",
            "\n",
            "data/mouse_mart.csv 100%[===================>]  12.89M  8.61MB/s    in 1.5s    \n",
            "\n",
            "2022-11-22 16:39:03 (8.61 MB/s) - ‘data/mouse_mart.csv’ saved [13518751/13518751]\n",
            "\n"
          ]
        }
      ]
    },
    {
      "cell_type": "code",
      "source": [
        "%%R\n",
        "mart <- read.csv(\"data/mouse_mart.csv\")\n",
        "genetype <- mart$Gene.type[match(rownames(txi$counts),mart$Gene.stable.ID)]\n",
        "typefilter <- genetype == \"protein_coding\"\n",
        "typefilter[is.na(typefilter)] <- FALSE\n",
        "dds <- dds[typefilter,]"
      ],
      "metadata": {
        "id": "EqBjFJ0_Y7e3"
      },
      "execution_count": null,
      "outputs": []
    },
    {
      "cell_type": "code",
      "source": [
        "%%R\n",
        "dds"
      ],
      "metadata": {
        "colab": {
          "base_uri": "https://localhost:8080/"
        },
        "id": "ieDM_LCDWEZN",
        "outputId": "2b99dff6-3816-451e-a03c-d5d5f7463487"
      },
      "execution_count": null,
      "outputs": [
        {
          "output_type": "stream",
          "name": "stdout",
          "text": [
            "class: DESeqDataSet \n",
            "dim: 21153 16 \n",
            "metadata(1): version\n",
            "assays(2): counts avgTxLength\n",
            "rownames(21153): ENSMUSG00000000001 ENSMUSG00000000003 ...\n",
            "  ENSMUSG00000104423 ENSMUSG00000104445\n",
            "rowData names(0):\n",
            "colnames: NULL\n",
            "colData names(3): condition knock treat\n"
          ]
        }
      ]
    },
    {
      "cell_type": "markdown",
      "source": [
        "Белок кодирующих генов всего 21153."
      ],
      "metadata": {
        "id": "2xeUHAFdROqs"
      }
    },
    {
      "cell_type": "code",
      "source": [
        "%%R\n",
        "keep1 <- rowSums(counts(dds)) >=40\n",
        "dds_10 <- dds[keep1,]\n",
        "dds_10"
      ],
      "metadata": {
        "id": "rd_s_xsJBpTy",
        "colab": {
          "base_uri": "https://localhost:8080/"
        },
        "outputId": "b9180e3f-1978-4ab1-a92b-6734a94dda35"
      },
      "execution_count": null,
      "outputs": [
        {
          "output_type": "stream",
          "name": "stdout",
          "text": [
            "class: DESeqDataSet \n",
            "dim: 14622 16 \n",
            "metadata(1): version\n",
            "assays(6): counts avgTxLength ... H cooks\n",
            "rownames(14622): ENSMUSG00000000001 ENSMUSG00000000028 ...\n",
            "  ENSMUSG00000104346 ENSMUSG00000104445\n",
            "rowData names(30): baseMean baseVar ... deviance maxCooks\n",
            "colnames: NULL\n",
            "colData names(3): condition knock treat\n"
          ]
        }
      ]
    },
    {
      "cell_type": "code",
      "source": [
        "%%R\n",
        "head(counts(dds))"
      ],
      "metadata": {
        "colab": {
          "base_uri": "https://localhost:8080/"
        },
        "id": "PZv6D9jjR3DP",
        "outputId": "b2c8a5c0-6b74-4ab9-d326-3867ff914ca9"
      },
      "execution_count": null,
      "outputs": [
        {
          "output_type": "stream",
          "name": "stdout",
          "text": [
            "                   [,1] [,2] [,3] [,4] [,5] [,6] [,7] [,8] [,9] [,10] [,11]\n",
            "ENSMUSG00000000001  745  894  912  941 1042  774  677  947  644   693   584\n",
            "ENSMUSG00000000003    0    0    0    0    0    0    0    0    0     0     0\n",
            "ENSMUSG00000000028   18   16   23   15   13   17   18   20   23    15    14\n",
            "ENSMUSG00000000037    4   10    4    2    3    0    2    3    5     7     2\n",
            "ENSMUSG00000000049    0    0    1    0    1    2    0    1    2     2     2\n",
            "ENSMUSG00000000056  522  631  688  762  609  567  637  711  839   706   594\n",
            "                   [,12] [,13] [,14] [,15] [,16]\n",
            "ENSMUSG00000000001   660   789   735   799   765\n",
            "ENSMUSG00000000003     0     0     0     0     0\n",
            "ENSMUSG00000000028    21    19    18    21    17\n",
            "ENSMUSG00000000037     5     0     3     0     2\n",
            "ENSMUSG00000000049     2     3     0     1     1\n",
            "ENSMUSG00000000056   882   796   821   754   696\n"
          ]
        }
      ]
    },
    {
      "cell_type": "markdown",
      "source": [
        "**При фильтрации каунты >=10 остается 15942 гена. По какой-то причине edgeR при такой же фильтрации оставляет в анализе около 13 тысяч генов. Поэтому pvalue сравнивались на данных без фильтрации на количество каунтов.**"
      ],
      "metadata": {
        "id": "dT2jiSD6pxIb"
      }
    },
    {
      "cell_type": "markdown",
      "source": [
        "## Запуск DESeq2"
      ],
      "metadata": {
        "id": "08ZPBlRYqIkj"
      }
    },
    {
      "cell_type": "code",
      "source": [
        "%%R\n",
        "dds <- DESeq(dds)\n",
        "res <- results(dds)\n",
        "res"
      ],
      "metadata": {
        "colab": {
          "base_uri": "https://localhost:8080/"
        },
        "id": "HLZisOy0n_cy",
        "outputId": "2e313982-1338-48a8-d0ef-696975a59281"
      },
      "execution_count": null,
      "outputs": [
        {
          "output_type": "stream",
          "name": "stderr",
          "text": [
            "WARNING:rpy2.rinterface_lib.callbacks:R[write to console]: using pre-existing normalization factors\n",
            "\n",
            "WARNING:rpy2.rinterface_lib.callbacks:R[write to console]: estimating dispersions\n",
            "\n",
            "WARNING:rpy2.rinterface_lib.callbacks:R[write to console]: found already estimated dispersions, replacing these\n",
            "\n",
            "WARNING:rpy2.rinterface_lib.callbacks:R[write to console]: gene-wise dispersion estimates\n",
            "\n",
            "WARNING:rpy2.rinterface_lib.callbacks:R[write to console]: mean-dispersion relationship\n",
            "\n",
            "WARNING:rpy2.rinterface_lib.callbacks:R[write to console]: final dispersion estimates\n",
            "\n",
            "WARNING:rpy2.rinterface_lib.callbacks:R[write to console]: fitting model and testing\n",
            "\n"
          ]
        },
        {
          "output_type": "stream",
          "name": "stdout",
          "text": [
            "log2 fold change (MLE): condition wt water  vs ko bicarb  \n",
            "Wald test p-value: condition wt water  vs ko bicarb  \n",
            "DataFrame with 21153 rows and 6 columns\n",
            "                     baseMean log2FoldChange     lfcSE       stat      pvalue\n",
            "                    <numeric>      <numeric> <numeric>  <numeric>   <numeric>\n",
            "ENSMUSG00000000001  786.28271       0.448049 0.0704631   6.358628 2.03563e-10\n",
            "ENSMUSG00000000003    0.00000             NA        NA         NA          NA\n",
            "ENSMUSG00000000028   18.19808       0.209794 0.3414668   0.614391 5.38957e-01\n",
            "ENSMUSG00000000037    4.72771       3.750823 1.1233753   3.338887 8.41147e-04\n",
            "ENSMUSG00000000049    1.16603      -1.748655 1.5114919  -1.156907 2.47311e-01\n",
            "...                       ...            ...       ...        ...         ...\n",
            "ENSMUSG00000104301   0.000000             NA        NA         NA          NA\n",
            "ENSMUSG00000104318   0.181735       0.267639  4.327943  0.0618398    0.950690\n",
            "ENSMUSG00000104346  24.403592      -0.155162  0.326562 -0.4751369    0.634689\n",
            "ENSMUSG00000104423   0.000000             NA        NA         NA          NA\n",
            "ENSMUSG00000104445 197.106081       0.332784  0.205023  1.6231511    0.104557\n",
            "                          padj\n",
            "                     <numeric>\n",
            "ENSMUSG00000000001 7.33666e-09\n",
            "ENSMUSG00000000003          NA\n",
            "ENSMUSG00000000028 7.31054e-01\n",
            "ENSMUSG00000000037 5.63444e-03\n",
            "ENSMUSG00000000049          NA\n",
            "...                        ...\n",
            "ENSMUSG00000104301          NA\n",
            "ENSMUSG00000104318          NA\n",
            "ENSMUSG00000104346    0.800485\n",
            "ENSMUSG00000104423          NA\n",
            "ENSMUSG00000104445    0.253176\n"
          ]
        }
      ]
    },
    {
      "cell_type": "code",
      "source": [
        "%%R\n",
        "plotCounts(dds, gene=which.min(res$padj), intgroup=\"condition\")"
      ],
      "metadata": {
        "colab": {
          "base_uri": "https://localhost:8080/",
          "height": 497
        },
        "id": "JsYz2n-J5KGl",
        "outputId": "46ddb4d3-41d3-496b-d357-bae8c9a5ae0c"
      },
      "execution_count": null,
      "outputs": [
        {
          "output_type": "display_data",
          "data": {
            "image/png": "[encoded data removed]"
          },
          "metadata": {}
        }
      ]
    },
    {
      "cell_type": "code",
      "source": [
        "%%R\n",
        "\n",
        "res1=as.data.frame(res)\n",
        "ggplot(res1,aes(x=log2FoldChange,y=-log10(padj)))+\n",
        "  geom_point()"
      ],
      "metadata": {
        "colab": {
          "base_uri": "https://localhost:8080/",
          "height": 497
        },
        "id": "Ny8iqWt45jCw",
        "outputId": "a96ef147-3813-4255-bf09-1677c5e63084"
      },
      "execution_count": null,
      "outputs": [
        {
          "output_type": "display_data",
          "data": {
            "image/png": "[encoded data removed]"
          },
          "metadata": {}
        }
      ]
    },
    {
      "cell_type": "code",
      "source": [
        "%%R\n",
        "#Сравнение ko_water_ vs ko_bicarb_ \n",
        "kotreat_res = results(dds, contrast = c(\"condition\", \"ko_water_\", \"ko_bicarb_\"))\n",
        "head(kotreat_res)"
      ],
      "metadata": {
        "colab": {
          "base_uri": "https://localhost:8080/"
        },
        "id": "DTAHLm7w886l",
        "outputId": "8f55afae-3188-4910-b11a-ffc92dee2e34"
      },
      "execution_count": null,
      "outputs": [
        {
          "output_type": "stream",
          "name": "stdout",
          "text": [
            "log2 fold change (MLE): condition ko_water_ vs ko_bicarb_ \n",
            "Wald test p-value: condition ko water  vs ko bicarb  \n",
            "DataFrame with 6 rows and 6 columns\n",
            "                    baseMean log2FoldChange     lfcSE      stat    pvalue\n",
            "                   <numeric>      <numeric> <numeric> <numeric> <numeric>\n",
            "ENSMUSG00000000001 786.28271      0.0344368 0.0719422  0.478673 0.6321716\n",
            "ENSMUSG00000000003   0.00000             NA        NA        NA        NA\n",
            "ENSMUSG00000000028  18.19808      0.1930985 0.3412033  0.565934 0.5714389\n",
            "ENSMUSG00000000037   4.72771      2.5008839 1.1191478  2.234632 0.0254415\n",
            "ENSMUSG00000000049   1.16603      0.9902842 1.2264177  0.807461 0.4194011\n",
            "ENSMUSG00000000056 706.89922      0.3014175 0.1201286  2.509123 0.0121031\n",
            "                        padj\n",
            "                   <numeric>\n",
            "ENSMUSG00000000001  0.984773\n",
            "ENSMUSG00000000003        NA\n",
            "ENSMUSG00000000028  0.975700\n",
            "ENSMUSG00000000037  0.483177\n",
            "ENSMUSG00000000049        NA\n",
            "ENSMUSG00000000056  0.353792\n"
          ]
        }
      ]
    },
    {
      "cell_type": "code",
      "source": [
        "%%R\n",
        "#Сравнение wt_water_ vs wt_bicarb_ \n",
        "wttreat_res = results(dds, contrast = c(\"condition\", \"wt_water_\", \"wt_bicarb_\"))\n",
        "head(wttreat_res)"
      ],
      "metadata": {
        "colab": {
          "base_uri": "https://localhost:8080/"
        },
        "id": "SOv0Ou0BY7Ml",
        "outputId": "b755ba0b-6a83-480e-8215-75528e7bab15"
      },
      "execution_count": null,
      "outputs": [
        {
          "output_type": "stream",
          "name": "stdout",
          "text": [
            "log2 fold change (MLE): condition wt_water_ vs wt_bicarb_ \n",
            "Wald test p-value: condition wt_water_ vs wt_bicarb_ \n",
            "DataFrame with 6 rows and 6 columns\n",
            "                    baseMean log2FoldChange     lfcSE      stat    pvalue\n",
            "                   <numeric>      <numeric> <numeric> <numeric> <numeric>\n",
            "ENSMUSG00000000001 786.28271      0.0831327 0.0700339  1.187035 0.2352138\n",
            "ENSMUSG00000000003   0.00000             NA        NA        NA        NA\n",
            "ENSMUSG00000000028  18.19808      0.1155282 0.3452572  0.334615 0.7379156\n",
            "ENSMUSG00000000037   4.72771      2.5316868 1.0338638  2.448762 0.0143348\n",
            "ENSMUSG00000000049   1.16603     -1.8954737 1.5379335 -1.232481 0.2177695\n",
            "ENSMUSG00000000056 706.89922      0.0789372 0.1211986  0.651305 0.5148498\n",
            "                        padj\n",
            "                   <numeric>\n",
            "ENSMUSG00000000001  0.659575\n",
            "ENSMUSG00000000003        NA\n",
            "ENSMUSG00000000028        NA\n",
            "ENSMUSG00000000037        NA\n",
            "ENSMUSG00000000049        NA\n",
            "ENSMUSG00000000056  0.848406\n"
          ]
        }
      ]
    },
    {
      "cell_type": "code",
      "source": [
        "%%R\n",
        "#Сравнение ko_water_ vs wt_water_ \n",
        "kowtwater_res = results(dds, contrast = c(\"condition\", \"ko_water_\", \"wt_water_\"))\n",
        "head(kowtwater_res)"
      ],
      "metadata": {
        "colab": {
          "base_uri": "https://localhost:8080/"
        },
        "id": "Q7wtgc1gZ3c6",
        "outputId": "5fa3950f-0c07-419e-ee00-53717cbc25ab"
      },
      "execution_count": null,
      "outputs": [
        {
          "output_type": "stream",
          "name": "stdout",
          "text": [
            "log2 fold change (MLE): condition ko_water_ vs wt_water_ \n",
            "Wald test p-value: condition ko_water_ vs wt_water_ \n",
            "DataFrame with 6 rows and 6 columns\n",
            "                    baseMean log2FoldChange     lfcSE       stat      pvalue\n",
            "                   <numeric>      <numeric> <numeric>  <numeric>   <numeric>\n",
            "ENSMUSG00000000001 786.28271     -0.4136119 0.0713997 -5.7929099 6.91772e-09\n",
            "ENSMUSG00000000003   0.00000             NA        NA         NA          NA\n",
            "ENSMUSG00000000028  18.19808     -0.0166956 0.3430058 -0.0486744 9.61179e-01\n",
            "ENSMUSG00000000037   4.72771     -1.2499395 0.9542940 -1.3098055 1.90262e-01\n",
            "ENSMUSG00000000049   1.16603      2.7389391 1.4587468  1.8775974 6.04363e-02\n",
            "ENSMUSG00000000056 706.89922      0.5327468 0.1206500  4.4156397 1.00712e-05\n",
            "                          padj\n",
            "                     <numeric>\n",
            "ENSMUSG00000000001 2.02901e-07\n",
            "ENSMUSG00000000003          NA\n",
            "ENSMUSG00000000028 9.83773e-01\n",
            "ENSMUSG00000000037 3.97506e-01\n",
            "ENSMUSG00000000049          NA\n",
            "ENSMUSG00000000056 1.42193e-04\n"
          ]
        }
      ]
    },
    {
      "cell_type": "code",
      "source": [
        "%%R\n",
        "#Сравнение ko_bicarb_ vs wt_bicarb_ \n",
        "kowtbicarb_res = results(dds, contrast = c(\"condition\", \"ko_bicarb_\", \"wt_bicarb_\"))\n",
        "head(kowtbicarb_res)"
      ],
      "metadata": {
        "colab": {
          "base_uri": "https://localhost:8080/"
        },
        "id": "BOU-_f5caW-S",
        "outputId": "5a96146a-766c-4487-af57-52aba99259d5"
      },
      "execution_count": null,
      "outputs": [
        {
          "output_type": "stream",
          "name": "stdout",
          "text": [
            "log2 fold change (MLE): condition ko_bicarb_ vs wt_bicarb_ \n",
            "Wald test p-value: condition ko_bicarb_ vs wt_bicarb_ \n",
            "DataFrame with 6 rows and 6 columns\n",
            "                    baseMean log2FoldChange     lfcSE      stat      pvalue\n",
            "                   <numeric>      <numeric> <numeric> <numeric>   <numeric>\n",
            "ENSMUSG00000000001 786.28271     -0.3649160  0.070587 -5.169736 2.34425e-07\n",
            "ENSMUSG00000000003   0.00000             NA        NA        NA          NA\n",
            "ENSMUSG00000000028  18.19808     -0.0942659  0.343466 -0.274454 7.83735e-01\n",
            "ENSMUSG00000000037   4.72771     -1.2191366  1.187724 -1.026448 3.04681e-01\n",
            "ENSMUSG00000000049   1.16603     -0.1468187  1.319620 -0.111258 9.11411e-01\n",
            "ENSMUSG00000000056 706.89922      0.3102665  0.120680  2.570995 1.01407e-02\n",
            "                          padj\n",
            "                     <numeric>\n",
            "ENSMUSG00000000001 5.69717e-06\n",
            "ENSMUSG00000000003          NA\n",
            "ENSMUSG00000000028 8.87565e-01\n",
            "ENSMUSG00000000037          NA\n",
            "ENSMUSG00000000049          NA\n",
            "ENSMUSG00000000056 4.73255e-02\n"
          ]
        }
      ]
    },
    {
      "cell_type": "code",
      "source": [
        "%%R\n",
        "DESeq2_KOtreat = as.data.frame(kotreat_res)\n",
        "DESeq2_WTtreat = as.data.frame(wttreat_res)\n",
        "DESeq2_WaterKOWT = as.data.frame(kowtwater_res)\n",
        "DESeq2_BicarbKOWT = as.data.frame(kowtbicarb_res)"
      ],
      "metadata": {
        "id": "r2HYN-tGAe5R"
      },
      "execution_count": null,
      "outputs": []
    },
    {
      "cell_type": "markdown",
      "source": [
        "## Анализ экспрессии с помощью edgeR на тех же данных с семинара"
      ],
      "metadata": {
        "id": "joTsJvUB9jh7"
      }
    },
    {
      "cell_type": "markdown",
      "source": [
        "Повторим шаги семинара, чтобы сравнить pvalue с DESeq2"
      ],
      "metadata": {
        "id": "wzrx7Bbj9u38"
      }
    },
    {
      "cell_type": "code",
      "source": [
        "%%R\n",
        "cts <- txi$counts\n",
        "normMat <- txi$length\n",
        "\n",
        "# Obtaining per-observation scaling factors for length, adjusted to avoid\n",
        "# changing the magnitude of the counts.\n",
        "normMat <- normMat/exp(rowMeans(log(normMat)))\n",
        "normCts <- cts/normMat\n",
        "\n",
        "# Computing effective library sizes from scaled counts, to account for\n",
        "# composition biases between samples.\n",
        "eff.lib <- calcNormFactors(normCts) * colSums(normCts)\n",
        "\n",
        "# Combining effective library sizes with the length factors, and calculating\n",
        "# offsets for a log-link GLM.\n",
        "normMat <- sweep(normMat, 2, eff.lib, \"*\")\n",
        "normMat <- log(normMat)\n",
        "\n",
        "genelen <- txi$length"
      ],
      "metadata": {
        "id": "k2ArvE0K9tZm"
      },
      "execution_count": null,
      "outputs": []
    },
    {
      "cell_type": "code",
      "source": [
        "%%R\n",
        "\n",
        "genetype <- mart$Gene.type[match(rownames(cts),mart$Gene.stable.ID)]\n",
        "typefilter <- genetype == \"protein_coding\"\n",
        "typefilter[is.na(typefilter)] <- FALSE\n",
        "cts <- cts[typefilter,]\n",
        "normMat <- normMat[typefilter,]\n",
        "genelen <- genelen[typefilter,]"
      ],
      "metadata": {
        "id": "6rqfYvlN-A1n"
      },
      "execution_count": null,
      "outputs": []
    },
    {
      "cell_type": "code",
      "source": [
        "%%R\n",
        "str(cts)"
      ],
      "metadata": {
        "colab": {
          "base_uri": "https://localhost:8080/"
        },
        "id": "PVNECe0OWOlk",
        "outputId": "5458fd8b-8c18-4a79-c242-6043723435fc"
      },
      "execution_count": null,
      "outputs": [
        {
          "output_type": "stream",
          "name": "stdout",
          "text": [
            " num [1:21153, 1:16] 745 0 18 4 0 ...\n",
            " - attr(*, \"dimnames\")=List of 2\n",
            "  ..$ : chr [1:21153] \"ENSMUSG00000000001\" \"ENSMUSG00000000003\" \"ENSMUSG00000000028\" \"ENSMUSG00000000037\" ...\n",
            "  ..$ : NULL\n"
          ]
        }
      ]
    },
    {
      "cell_type": "code",
      "source": [
        "%%R\n",
        "\n",
        "y <- DGEList(cts)\n",
        "y <- scaleOffset(y, normMat)\n",
        "\n",
        "knock <- c(rep(\"wt\",8),rep(\"ko\",8))\n",
        "treat <- c(rep(\"water\",4),rep(\"bicarb\",4),rep(\"water\",4),rep(\"bicarb\",4))\n",
        "group <- factor(str_c(knock,treat,sep=\"_\"))\n",
        "design <- model.matrix(~0+group)\n",
        "colnames(design) <- levels(group)"
      ],
      "metadata": {
        "id": "QqUEkl6N-D9P"
      },
      "execution_count": null,
      "outputs": []
    },
    {
      "cell_type": "code",
      "source": [
        "%%R\n",
        "\n",
        "require(org.Mm.eg.db)\n",
        "Symbol <- mapIds(org.Mm.eg.db, keys=rownames(y), keytype=\"ENSEMBL\", column=\"SYMBOL\")\n",
        "Entrez <- mapIds(org.Mm.eg.db, keys=rownames(y), keytype=\"ENSEMBL\", column=\"ENTREZID\")\n",
        "y$genes <- data.frame(Symbol=Symbol, Entrez=Entrez)\n",
        "y$genes[\"length\"] <- rowMeans(genelen)"
      ],
      "metadata": {
        "colab": {
          "base_uri": "https://localhost:8080/"
        },
        "id": "Z8rCerpr-IEn",
        "outputId": "7e32740a-1fdd-41c1-dfd3-ad87ec47d5c0"
      },
      "execution_count": null,
      "outputs": [
        {
          "output_type": "stream",
          "name": "stderr",
          "text": [
            "WARNING:rpy2.rinterface_lib.callbacks:R[write to console]: Loading required package: org.Mm.eg.db\n",
            "\n",
            "WARNING:rpy2.rinterface_lib.callbacks:R[write to console]: \n",
            "\n",
            "WARNING:rpy2.rinterface_lib.callbacks:R[write to console]: 'select()' returned 1:many mapping between keys and columns\n",
            "\n",
            "WARNING:rpy2.rinterface_lib.callbacks:R[write to console]: 'select()' returned 1:many mapping between keys and columns\n",
            "\n"
          ]
        }
      ]
    },
    {
      "cell_type": "code",
      "source": [
        "%%R\n",
        "\n",
        "keep <- filterByExpr(y,design=design, min.total.count=10,min.count=10)\n",
        "y_10 <- y[keep, , keep.lib.sizes=FALSE]\n",
        "\n",
        "y <- estimateDisp(y, design, robust=TRUE)\n",
        "str(y_10)"
      ],
      "metadata": {
        "id": "GK1oUJ9n-Kf7",
        "colab": {
          "base_uri": "https://localhost:8080/"
        },
        "outputId": "1043f8d0-1e3b-4524-df70-2b753cce1d5f"
      },
      "execution_count": null,
      "outputs": [
        {
          "output_type": "stream",
          "name": "stdout",
          "text": [
            "Formal class 'DGEList' [package \"edgeR\"] with 1 slot\n",
            "  ..@ .Data:List of 13\n",
            "  .. ..$ : num [1:13459, 1:16] 745 18 522 331 577 ...\n",
            "  .. .. ..- attr(*, \"dimnames\")=List of 2\n",
            "  .. .. .. ..$ : chr [1:13459] \"ENSMUSG00000000001\" \"ENSMUSG00000000028\" \"ENSMUSG00000000056\" \"ENSMUSG00000000058\" ...\n",
            "  .. .. .. ..$ : chr [1:16] \"Sample1\" \"Sample2\" \"Sample3\" \"Sample4\" ...\n",
            "  .. ..$ :'data.frame':\t16 obs. of  3 variables:\n",
            "  .. .. ..$ group       : Factor w/ 1 level \"1\": 1 1 1 1 1 1 1 1 1 1 ...\n",
            "  .. .. ..$ lib.size    : num [1:16] 9490363 10294170 11459136 10827879 11737575 ...\n",
            "  .. .. ..$ norm.factors: num [1:16] 1 1 1 1 1 1 1 1 1 1 ...\n",
            "  .. ..$ : num [1:13459, 1:16] 16.2 16 16.3 16.3 16.2 ...\n",
            "  .. .. ..- attr(*, \"dimnames\")=List of 2\n",
            "  .. .. .. ..$ : chr [1:13459] \"ENSMUSG00000000001\" \"ENSMUSG00000000028\" \"ENSMUSG00000000056\" \"ENSMUSG00000000058\" ...\n",
            "  .. .. .. ..$ : NULL\n",
            "  .. ..$ :'data.frame':\t13459 obs. of  3 variables:\n",
            "  .. .. ..$ Symbol: chr [1:13459] \"Gnai3\" \"Cdc45\" \"Narf\" \"Cav2\" ...\n",
            "  .. .. ..$ Entrez: chr [1:13459] \"14679\" \"12544\" \"67608\" \"12390\" ...\n",
            "  .. .. ..$ length: num [1:13459] 1542 1392 3113 839 3116 ...\n",
            "  .. ..$ : num [1:16, 1:4] 0 0 0 0 0 0 0 0 0 0 ...\n",
            "  .. .. ..- attr(*, \"dimnames\")=List of 2\n",
            "  .. .. .. ..$ : chr [1:16] \"1\" \"2\" \"3\" \"4\" ...\n",
            "  .. .. .. ..$ : chr [1:4] \"ko_bicarb\" \"ko_water\" \"wt_bicarb\" \"wt_water\"\n",
            "  .. .. ..- attr(*, \"assign\")= int [1:4] 1 1 1 1\n",
            "  .. .. ..- attr(*, \"contrasts\")=List of 1\n",
            "  .. .. .. ..$ group: chr \"contr.treatment\"\n",
            "  .. ..$ : num 0.0459\n",
            "  .. ..$ : num [1:13459] 0.0204 0.2071 0.0211 0.0337 0.0213 ...\n",
            "  .. ..$ : num [1:13459] 0.00662 0.04727 0.01434 0.01878 0.00621 ...\n",
            "  .. ..$ : num [1:13459] 6.062 0.724 5.863 4.627 5.806 ...\n",
            "  .. ..$ : chr \"locfit\"\n",
            "  .. ..$ : num [1:13459] 3.9 3.9 3.9 3.9 3.9 ...\n",
            "  .. ..$ : num [1:13459] 0.325 0.325 0.325 0.325 0.325 ...\n",
            "  .. ..$ : num 0.291\n",
            "  ..$ names: chr [1:13] \"counts\" \"samples\" \"offset\" \"genes\" ...\n"
          ]
        }
      ]
    },
    {
      "cell_type": "code",
      "source": [
        "%%R\n",
        "head(keep)"
      ],
      "metadata": {
        "colab": {
          "base_uri": "https://localhost:8080/"
        },
        "id": "CUCNTMuQSvJ2",
        "outputId": "da4e2f58-03fb-44b2-a0e4-e57f10c3d27d"
      },
      "execution_count": null,
      "outputs": [
        {
          "output_type": "stream",
          "name": "stdout",
          "text": [
            "ENSMUSG00000000001 ENSMUSG00000000003 ENSMUSG00000000028 ENSMUSG00000000037 \n",
            "              TRUE              FALSE               TRUE              FALSE \n",
            "ENSMUSG00000000049 ENSMUSG00000000056 \n",
            "             FALSE               TRUE \n"
          ]
        }
      ]
    },
    {
      "cell_type": "code",
      "source": [
        "%%R\n",
        "\n",
        "fit <- glmQLFit(y, design, robust=TRUE)\n",
        "\n",
        "my.contrasts <- makeContrasts(\n",
        "  KO.BicarbvsWater = ko_bicarb-ko_water,\n",
        "  WT.BicarbvsWater = wt_bicarb-wt_water,\n",
        "  Bicarb.KOvsWT = ko_bicarb-wt_bicarb,\n",
        "  Water.KOvsWT = ko_water-wt_water,\n",
        "  KOWT.treat = (ko_bicarb-ko_water)-(wt_bicarb-wt_water),\n",
        "  levels=design)\n",
        "\n",
        "qlf_WaterKOWT <- glmQLFTest(fit, contrast=my.contrasts[,\"Water.KOvsWT\"])\n",
        "qlf_BicarbKOWT <- glmQLFTest(fit, contrast=my.contrasts[,\"Bicarb.KOvsWT\"])\n",
        "qlf_KOtreat <- glmQLFTest(fit, contrast=my.contrasts[,\"KO.BicarbvsWater\"])\n",
        "qlf_WTtreat <- glmQLFTest(fit, contrast=my.contrasts[,\"WT.BicarbvsWater\"])\n",
        "qlf_KOWTtreat <- glmQLFTest(fit, contrast=my.contrasts[,\"KOWT.treat\"])"
      ],
      "metadata": {
        "id": "BRBt0p-l-PkX"
      },
      "execution_count": null,
      "outputs": []
    },
    {
      "cell_type": "code",
      "source": [
        "%%R\n",
        "\n",
        "edgeR_WaterKOWT <- topTags(qlf_WaterKOWT,n=nrow(y))$table\n",
        "edgeR_BicarbKOWT <- topTags(qlf_BicarbKOWT,n=nrow(y))$table\n",
        "edgeR_KOtreat <- topTags(qlf_KOtreat,n=nrow(y))$table\n",
        "edgeR_WTtreat <- topTags(qlf_WTtreat,n=nrow(y))$table"
      ],
      "metadata": {
        "id": "Xu1B-6Wg-YdZ"
      },
      "execution_count": null,
      "outputs": []
    },
    {
      "cell_type": "code",
      "source": [
        "%%R\n",
        "head(edgeR_KOtreat)"
      ],
      "metadata": {
        "colab": {
          "base_uri": "https://localhost:8080/"
        },
        "id": "KneTW8Tj-cgl",
        "outputId": "38ff0397-154e-4fb4-a3e5-14c300d485c8"
      },
      "execution_count": null,
      "outputs": [
        {
          "output_type": "stream",
          "name": "stdout",
          "text": [
            "                    Symbol Entrez    length      logFC   logCPM        F\n",
            "ENSMUSG00000013646 Sh3bp5l  79566 2663.6188  1.3387912 4.316745 87.18071\n",
            "ENSMUSG00000018459 Slc13a3 114644 3582.5841 -0.6701305 9.643126 62.64368\n",
            "ENSMUSG00000005233   Spc25  66442  590.1003 -0.7765876 4.822291 42.62467\n",
            "ENSMUSG00000038173   Enpp6 320981 3396.6087 -0.5380002 6.678032 35.41977\n",
            "ENSMUSG00000024650 Slc22a6  18399 3531.9903 -0.5257144 8.661980 31.13790\n",
            "ENSMUSG00000093930  Hmgcs1 208715 2123.2800 -0.5132723 7.542438 29.23505\n",
            "                         PValue         FDR\n",
            "ENSMUSG00000013646 5.835153e-08 0.001234310\n",
            "ENSMUSG00000018459 5.475232e-07 0.005790879\n",
            "ENSMUSG00000005233 6.224092e-06 0.043886075\n",
            "ENSMUSG00000038173 1.850012e-05 0.097833249\n",
            "ENSMUSG00000024650 3.817004e-05 0.161482178\n",
            "ENSMUSG00000093930 5.383711e-05 0.189802745\n"
          ]
        }
      ]
    },
    {
      "cell_type": "markdown",
      "source": [
        "## Сравнение двух методов"
      ],
      "metadata": {
        "id": "zSksj9f7-nYg"
      }
    },
    {
      "cell_type": "code",
      "source": [
        "%%R\n",
        "edgeR_KOtreat[\"ENSMUSG00000000001\",]"
      ],
      "metadata": {
        "colab": {
          "base_uri": "https://localhost:8080/"
        },
        "id": "qSHO2r7rEhp2",
        "outputId": "61f32820-af1d-41bf-d60e-48ef1d684235"
      },
      "execution_count": null,
      "outputs": [
        {
          "output_type": "stream",
          "name": "stdout",
          "text": [
            "                   Symbol Entrez   length       logFC   logCPM          F\n",
            "ENSMUSG00000000001  Gnai3  14679 1542.151 -0.01863023 6.062229 0.06503114\n",
            "                      PValue FDR\n",
            "ENSMUSG00000000001 0.8018914   1\n"
          ]
        }
      ]
    },
    {
      "cell_type": "code",
      "source": [
        "%%R\n",
        "DESeq2_KOtreat[\"ENSMUSG00000000001\",]"
      ],
      "metadata": {
        "colab": {
          "base_uri": "https://localhost:8080/"
        },
        "id": "fLGAa7CiAw-2",
        "outputId": "a9eb0907-ce44-4a3b-ed4f-a0a17e44d0ad"
      },
      "execution_count": null,
      "outputs": [
        {
          "output_type": "stream",
          "name": "stdout",
          "text": [
            "                   baseMean log2FoldChange      lfcSE      stat    pvalue\n",
            "ENSMUSG00000000001 786.2827     0.03443677 0.07194223 0.4786726 0.6321716\n",
            "                        padj\n",
            "ENSMUSG00000000001 0.9847729\n"
          ]
        }
      ]
    },
    {
      "cell_type": "code",
      "source": [
        "%%R\n",
        "write.csv(as.data.frame(DESeq2_KOtreat), \n",
        "          file=\"results_DEeq_KOtreat.csv\")\n",
        "write.csv(as.data.frame(edgeR_KOtreat), \n",
        "          file=\"results_edgeR_KOtreat.csv\")\n",
        "\n",
        "write.csv(as.data.frame(DESeq2_WTtreat), \n",
        "          file=\"results_DEeq_WTtreat.csv\")\n",
        "write.csv(as.data.frame(edgeR_WTtreat), \n",
        "          file=\"results_edgeR_WTtreat.csv\")\n",
        "\n",
        "write.csv(as.data.frame(DESeq2_WaterKOWT), \n",
        "          file=\"results_DEeq_WaterKOWT.csv\")\n",
        "write.csv(as.data.frame(edgeR_WaterKOWT), \n",
        "          file=\"results_edgeR_WaterKOWT.csv\")\n",
        "\n",
        "write.csv(as.data.frame(DESeq2_BicarbKOWT), \n",
        "          file=\"results_DEeq_BicarbKOWT.csv\")\n",
        "write.csv(as.data.frame(edgeR_BicarbKOWT), \n",
        "          file=\"results_edgeR_BicarbKOWT.csv\")"
      ],
      "metadata": {
        "id": "Hi1Er7-3aVnw"
      },
      "execution_count": null,
      "outputs": []
    },
    {
      "cell_type": "code",
      "source": [
        "%%R\n",
        "d_KOtreat <- read.csv(\"results_DEeq_KOtreat.csv\")\n",
        "e_KOtreat <- read.csv(\"results_edgeR_KOtreat.csv\")\n",
        "d_KOtreat <- d_KOtreat[order(d_KOtreat$X),]\n",
        "e_KOtreat <- e_KOtreat[order(e_KOtreat$X),]\n",
        "\n",
        "d_WTtreat <- read.csv(\"results_DEeq_WTtreat.csv\")\n",
        "e_WTtreat <- read.csv(\"results_edgeR_WTtreat.csv\")\n",
        "d_WTtreat <- d_WTtreat[order(d_WTtreat$X),]\n",
        "e_WTtreat <- e_WTtreat[order(e_WTtreat$X),]\n",
        "\n",
        "d_WaterKOWT <- read.csv(\"results_DEeq_WaterKOWT.csv\")\n",
        "e_WaterKOWT <- read.csv(\"results_edgeR_WaterKOWT.csv\")\n",
        "d_WaterKOWT <- d_WaterKOWT[order(d_WaterKOWT$X),]\n",
        "e_WaterKOWT <-e_WaterKOWT[order(e_WaterKOWT$X),]\n",
        "\n",
        "d_BicarbKOWT <- read.csv(\"results_DEeq_BicarbKOWT.csv\")\n",
        "e_BicarbKOWT <- read.csv(\"results_edgeR_BicarbKOWT.csv\")\n",
        "d_BicarbKOWT <-d_BicarbKOWT[order(d_BicarbKOWT$X),]\n",
        "e_BicarbKOWT <- e_BicarbKOWT[order(e_BicarbKOWT$X),]"
      ],
      "metadata": {
        "id": "wF_hgHW7cDnB"
      },
      "execution_count": null,
      "outputs": []
    },
    {
      "cell_type": "code",
      "source": [
        "%%R\n",
        "KOtreat_fdr <- e_KOtreat$FDR\n",
        "KOtreat_padj <- d_KOtreat$padj\n",
        "\n",
        "plot(KOtreat_fdr, KOtreat_padj)"
      ],
      "metadata": {
        "colab": {
          "base_uri": "https://localhost:8080/",
          "height": 497
        },
        "id": "kFC2sbledD94",
        "outputId": "3c0385da-df4c-4ce4-8df7-867d4de9b289"
      },
      "execution_count": null,
      "outputs": [
        {
          "output_type": "display_data",
          "data": {
            "image/png": "[encoded data removed]"
          },
          "metadata": {}
        }
      ]
    },
    {
      "cell_type": "code",
      "source": [
        "%%R\n",
        "WTtreat_fdr <- e_WTtreat$FDR\n",
        "WTtreat_padj <- d_WTtreat$padj\n",
        "\n",
        "plot(WTtreat_fdr, WTtreat_padj)"
      ],
      "metadata": {
        "colab": {
          "base_uri": "https://localhost:8080/",
          "height": 497
        },
        "id": "iwK-PagFcnnT",
        "outputId": "ff32704e-51e2-41ce-ad99-f553414ac360"
      },
      "execution_count": null,
      "outputs": [
        {
          "output_type": "display_data",
          "data": {
            "image/png": "[encoded data removed]"
          },
          "metadata": {}
        }
      ]
    },
    {
      "cell_type": "code",
      "source": [
        "%%R\n",
        "WaterKOWT_fdr <- e_WaterKOWT$FDR\n",
        "WaterKOWT_padj <- d_WaterKOWT$padj\n",
        "\n",
        "plot(WaterKOWT_fdr, WaterKOWT_padj)"
      ],
      "metadata": {
        "colab": {
          "base_uri": "https://localhost:8080/",
          "height": 497
        },
        "id": "DrP5qg7-cv4X",
        "outputId": "fc531068-464a-4590-f73e-178934a64a83"
      },
      "execution_count": null,
      "outputs": [
        {
          "output_type": "display_data",
          "data": {
            "image/png": "[encoded data removed]"
          },
          "metadata": {}
        }
      ]
    },
    {
      "cell_type": "code",
      "source": [
        "%%R\n",
        "BicarbKOWT_fdr <- e_BicarbKOWT$FDR\n",
        "BicarbKOWT_padj <- d_BicarbKOWT$padj\n",
        "\n",
        "plot(BicarbKOWT_fdr, BicarbKOWT_padj)"
      ],
      "metadata": {
        "colab": {
          "base_uri": "https://localhost:8080/",
          "height": 497
        },
        "id": "E2l-dDhCdD7K",
        "outputId": "20a6429e-b3ea-43cd-f0b7-3737c7506ffe"
      },
      "execution_count": null,
      "outputs": [
        {
          "output_type": "display_data",
          "data": {
            "image/png": "[encoded data removed]"
          },
          "metadata": {}
        }
      ]
    }
  ]
}