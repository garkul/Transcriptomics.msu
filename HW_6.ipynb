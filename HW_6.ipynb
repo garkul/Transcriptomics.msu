{
  "nbformat": 4,
  "nbformat_minor": 0,
  "metadata": {
    "colab": {
      "provenance": [],
      "collapsed_sections": [
        "9UHmZJ8NWwY7",
        "3xgVcIDaBc0M"
      ],
      "authorship_tag": "ABX9TyMafDCiNSjpZxiRAEu8x6dC",
      "include_colab_link": true
    },
    "kernelspec": {
      "name": "python3",
      "display_name": "Python 3"
    },
    "language_info": {
      "name": "python"
    }
  },
  "cells": [
    {
      "cell_type": "markdown",
      "metadata": {
        "id": "view-in-github",
        "colab_type": "text"
      },
      "source": [
        "<a href=\"https://colab.research.google.com/github/garkul/Transcriptomics.msu/blob/master/HW_6.ipynb\" target=\"_parent\"><img src=\"https://colab.research.google.com/assets/colab-badge.svg\" alt=\"Open In Colab\"/></a>"
      ]
    },
    {
      "cell_type": "markdown",
      "source": [
        "<h1>Домашнее задание 6</h1>\n",
        "<h3> Гаркуль Лидия 4 курс ФББ</h3>\n",
        "\n",
        "<b>Задание:</b><br>\n",
        "Сделайте несколько вспомогательных функций, которые вам позднее пригодятся:\n",
        "1. Разбиение одного объекта AnnData на список других, соответствующих каждому индивидуальному батчу;\n",
        "2. Создание нового объекта со случайными N клетками и M генами из изначального;\n",
        "3. Сохранение вашего AnnData-объекта как Seurat-объекта в формате `.rds`."
      ],
      "metadata": {
        "id": "UHKAl_jJMPXy"
      }
    },
    {
      "cell_type": "markdown",
      "source": [
        "###Установка нужных программ и пакетов"
      ],
      "metadata": {
        "id": "9UHmZJ8NWwY7"
      }
    },
    {
      "cell_type": "code",
      "source": [
        "# Загрузка R magic\n",
        "!pip install rpy2==3.5.1\n",
        "%load_ext rpy2.ipython\n",
        "\n",
        "# Установка нужных пакетов\n",
        "!apt-get install libgmp3-dev libcairo2-dev libharfbuzz-dev libfribidi-dev libudunits2-dev\n",
        "!gdown \"1W0TuuQospxcasOX5cQdhT_Xd-k7-QAck&confirm=t\"\n",
        "!tar xf library.tar.gz\n",
        "!pip3 install scanpy[leiden] anndata2ri\n",
        "\n",
        "# Необходимо, чтобы конкретно прогрузился matplotlib\n",
        "import os\n",
        "os.kill(os.getpid(), 9)"
      ],
      "metadata": {
        "colab": {
          "base_uri": "https://localhost:8080/"
        },
        "id": "D7wlcH19MVZK",
        "outputId": "0dac2278-6691-4e19-94cf-e2f7953ef18f"
      },
      "execution_count": null,
      "outputs": [
        {
          "output_type": "stream",
          "name": "stdout",
          "text": [
            "Looking in indexes: https://pypi.org/simple, https://us-python.pkg.dev/colab-wheels/public/simple/\n",
            "Collecting rpy2==3.5.1\n",
            "  Downloading rpy2-3.5.1.tar.gz (201 kB)\n",
            "\u001b[K     |████████████████████████████████| 201 kB 5.5 MB/s \n",
            "\u001b[?25hRequirement already satisfied: cffi>=1.10.0 in /usr/local/lib/python3.8/dist-packages (from rpy2==3.5.1) (1.15.1)\n",
            "Requirement already satisfied: jinja2 in /usr/local/lib/python3.8/dist-packages (from rpy2==3.5.1) (2.11.3)\n",
            "Requirement already satisfied: pytz in /usr/local/lib/python3.8/dist-packages (from rpy2==3.5.1) (2022.6)\n",
            "Requirement already satisfied: tzlocal in /usr/local/lib/python3.8/dist-packages (from rpy2==3.5.1) (1.5.1)\n",
            "Requirement already satisfied: pycparser in /usr/local/lib/python3.8/dist-packages (from cffi>=1.10.0->rpy2==3.5.1) (2.21)\n",
            "Requirement already satisfied: MarkupSafe>=0.23 in /usr/local/lib/python3.8/dist-packages (from jinja2->rpy2==3.5.1) (2.0.1)\n",
            "Building wheels for collected packages: rpy2\n",
            "  Building wheel for rpy2 (setup.py) ... \u001b[?25l\u001b[?25hdone\n",
            "  Created wheel for rpy2: filename=rpy2-3.5.1-cp38-cp38-linux_x86_64.whl size=310206 sha256=db53bdcf0a5dfe67f13f7c643a8425f2253aaa1d68fc48fa411997ac9f103494\n",
            "  Stored in directory: /root/.cache/pip/wheels/6b/40/7d/f63e87fd83e8b99ee837c8e3489081c4b3489134bc520235ed\n",
            "Successfully built rpy2\n",
            "Installing collected packages: rpy2\n",
            "  Attempting uninstall: rpy2\n",
            "    Found existing installation: rpy2 3.5.5\n",
            "    Uninstalling rpy2-3.5.5:\n",
            "      Successfully uninstalled rpy2-3.5.5\n",
            "Successfully installed rpy2-3.5.1\n",
            "Reading package lists... Done\n",
            "Building dependency tree       \n",
            "Reading state information... Done\n",
            "libharfbuzz-dev is already the newest version (1.7.2-1ubuntu1).\n",
            "libharfbuzz-dev set to manually installed.\n",
            "The following package was automatically installed and is no longer required:\n",
            "  libnvidia-common-460\n",
            "Use 'apt autoremove' to remove it.\n",
            "The following additional packages will be installed:\n",
            "  libcairo-script-interpreter2 libgmp-dev libgmpxx4ldbl libpixman-1-dev\n",
            "  libudunits2-0 libudunits2-data libxcb-shm0-dev\n",
            "Suggested packages:\n",
            "  libcairo2-doc gmp-doc libgmp10-doc libmpfr-dev\n",
            "The following NEW packages will be installed:\n",
            "  libcairo-script-interpreter2 libcairo2-dev libfribidi-dev libgmp-dev\n",
            "  libgmp3-dev libgmpxx4ldbl libpixman-1-dev libudunits2-0 libudunits2-data\n",
            "  libudunits2-dev libxcb-shm0-dev\n",
            "0 upgraded, 11 newly installed, 0 to remove and 20 not upgraded.\n",
            "Need to get 1,735 kB of archives.\n",
            "After this operation, 6,864 kB of additional disk space will be used.\n",
            "Get:1 http://archive.ubuntu.com/ubuntu bionic-updates/main amd64 libcairo-script-interpreter2 amd64 1.15.10-2ubuntu0.1 [53.5 kB]\n",
            "Get:2 http://archive.ubuntu.com/ubuntu bionic-updates/main amd64 libpixman-1-dev amd64 0.34.0-2ubuntu0.1 [244 kB]\n",
            "Get:3 http://archive.ubuntu.com/ubuntu bionic-updates/main amd64 libxcb-shm0-dev amd64 1.13-2~ubuntu18.04 [6,684 B]\n",
            "Get:4 http://archive.ubuntu.com/ubuntu bionic-updates/main amd64 libcairo2-dev amd64 1.15.10-2ubuntu0.1 [626 kB]\n",
            "Get:5 http://archive.ubuntu.com/ubuntu bionic-updates/main amd64 libfribidi-dev amd64 0.19.7-2ubuntu0.1 [42.5 kB]\n",
            "Get:6 http://archive.ubuntu.com/ubuntu bionic-updates/main amd64 libgmpxx4ldbl amd64 2:6.1.2+dfsg-2ubuntu0.1 [8,984 B]\n",
            "Get:7 http://archive.ubuntu.com/ubuntu bionic-updates/main amd64 libgmp-dev amd64 2:6.1.2+dfsg-2ubuntu0.1 [316 kB]\n",
            "Get:8 http://archive.ubuntu.com/ubuntu bionic-updates/main amd64 libgmp3-dev amd64 2:6.1.2+dfsg-2ubuntu0.1 [2,012 B]\n",
            "Get:9 http://archive.ubuntu.com/ubuntu bionic/universe amd64 libudunits2-data all 2.2.26-1 [18.7 kB]\n",
            "Get:10 http://archive.ubuntu.com/ubuntu bionic/universe amd64 libudunits2-0 amd64 2.2.26-1 [54.3 kB]\n",
            "Get:11 http://archive.ubuntu.com/ubuntu bionic/universe amd64 libudunits2-dev amd64 2.2.26-1 [362 kB]\n",
            "Fetched 1,735 kB in 1s (1,785 kB/s)\n",
            "Selecting previously unselected package libcairo-script-interpreter2:amd64.\n",
            "(Reading database ... 124016 files and directories currently installed.)\n",
            "Preparing to unpack .../00-libcairo-script-interpreter2_1.15.10-2ubuntu0.1_amd64.deb ...\n",
            "Unpacking libcairo-script-interpreter2:amd64 (1.15.10-2ubuntu0.1) ...\n",
            "Selecting previously unselected package libpixman-1-dev:amd64.\n",
            "Preparing to unpack .../01-libpixman-1-dev_0.34.0-2ubuntu0.1_amd64.deb ...\n",
            "Unpacking libpixman-1-dev:amd64 (0.34.0-2ubuntu0.1) ...\n",
            "Selecting previously unselected package libxcb-shm0-dev:amd64.\n",
            "Preparing to unpack .../02-libxcb-shm0-dev_1.13-2~ubuntu18.04_amd64.deb ...\n",
            "Unpacking libxcb-shm0-dev:amd64 (1.13-2~ubuntu18.04) ...\n",
            "Selecting previously unselected package libcairo2-dev:amd64.\n",
            "Preparing to unpack .../03-libcairo2-dev_1.15.10-2ubuntu0.1_amd64.deb ...\n",
            "Unpacking libcairo2-dev:amd64 (1.15.10-2ubuntu0.1) ...\n",
            "Selecting previously unselected package libfribidi-dev.\n",
            "Preparing to unpack .../04-libfribidi-dev_0.19.7-2ubuntu0.1_amd64.deb ...\n",
            "Unpacking libfribidi-dev (0.19.7-2ubuntu0.1) ...\n",
            "Selecting previously unselected package libgmpxx4ldbl:amd64.\n",
            "Preparing to unpack .../05-libgmpxx4ldbl_2%3a6.1.2+dfsg-2ubuntu0.1_amd64.deb ...\n",
            "Unpacking libgmpxx4ldbl:amd64 (2:6.1.2+dfsg-2ubuntu0.1) ...\n",
            "Selecting previously unselected package libgmp-dev:amd64.\n",
            "Preparing to unpack .../06-libgmp-dev_2%3a6.1.2+dfsg-2ubuntu0.1_amd64.deb ...\n",
            "Unpacking libgmp-dev:amd64 (2:6.1.2+dfsg-2ubuntu0.1) ...\n",
            "Selecting previously unselected package libgmp3-dev.\n",
            "Preparing to unpack .../07-libgmp3-dev_2%3a6.1.2+dfsg-2ubuntu0.1_amd64.deb ...\n",
            "Unpacking libgmp3-dev (2:6.1.2+dfsg-2ubuntu0.1) ...\n",
            "Selecting previously unselected package libudunits2-data.\n",
            "Preparing to unpack .../08-libudunits2-data_2.2.26-1_all.deb ...\n",
            "Unpacking libudunits2-data (2.2.26-1) ...\n",
            "Selecting previously unselected package libudunits2-0:amd64.\n",
            "Preparing to unpack .../09-libudunits2-0_2.2.26-1_amd64.deb ...\n",
            "Unpacking libudunits2-0:amd64 (2.2.26-1) ...\n",
            "Selecting previously unselected package libudunits2-dev.\n",
            "Preparing to unpack .../10-libudunits2-dev_2.2.26-1_amd64.deb ...\n",
            "Unpacking libudunits2-dev (2.2.26-1) ...\n",
            "Setting up libcairo-script-interpreter2:amd64 (1.15.10-2ubuntu0.1) ...\n",
            "Setting up libxcb-shm0-dev:amd64 (1.13-2~ubuntu18.04) ...\n",
            "Setting up libudunits2-data (2.2.26-1) ...\n",
            "Setting up libfribidi-dev (0.19.7-2ubuntu0.1) ...\n",
            "Setting up libpixman-1-dev:amd64 (0.34.0-2ubuntu0.1) ...\n",
            "Setting up libgmpxx4ldbl:amd64 (2:6.1.2+dfsg-2ubuntu0.1) ...\n",
            "Setting up libudunits2-0:amd64 (2.2.26-1) ...\n",
            "Setting up libgmp-dev:amd64 (2:6.1.2+dfsg-2ubuntu0.1) ...\n",
            "Setting up libcairo2-dev:amd64 (1.15.10-2ubuntu0.1) ...\n",
            "Setting up libudunits2-dev (2.2.26-1) ...\n",
            "Setting up libgmp3-dev (2:6.1.2+dfsg-2ubuntu0.1) ...\n",
            "Processing triggers for man-db (2.8.3-2ubuntu0.1) ...\n",
            "Processing triggers for libc-bin (2.27-3ubuntu1.6) ...\n",
            "Downloading...\n",
            "From: https://drive.google.com/uc?id=1W0TuuQospxcasOX5cQdhT_Xd-k7-QAck&confirm=t\n",
            "To: /content/library.tar.gz\n",
            "100% 2.33G/2.33G [00:14<00:00, 162MB/s]\n",
            "tar: Removing leading `/' from member names\n",
            "Looking in indexes: https://pypi.org/simple, https://us-python.pkg.dev/colab-wheels/public/simple/\n",
            "Collecting scanpy[leiden]\n",
            "  Downloading scanpy-1.9.1-py3-none-any.whl (2.0 MB)\n",
            "\u001b[K     |████████████████████████████████| 2.0 MB 5.0 MB/s \n",
            "\u001b[?25hCollecting anndata2ri\n",
            "  Downloading anndata2ri-1.1-py3-none-any.whl (25 kB)\n",
            "Requirement already satisfied: rpy2>=3.4.3 in /usr/local/lib/python3.8/dist-packages (from anndata2ri) (3.5.1)\n",
            "Requirement already satisfied: tzlocal in /usr/local/lib/python3.8/dist-packages (from anndata2ri) (1.5.1)\n",
            "Collecting anndata\n",
            "  Downloading anndata-0.8.0-py3-none-any.whl (96 kB)\n",
            "\u001b[K     |████████████████████████████████| 96 kB 4.7 MB/s \n",
            "\u001b[?25hCollecting get-version\n",
            "  Downloading get_version-3.5.4-py3-none-any.whl (18 kB)\n",
            "Requirement already satisfied: cffi>=1.10.0 in /usr/local/lib/python3.8/dist-packages (from rpy2>=3.4.3->anndata2ri) (1.15.1)\n",
            "Requirement already satisfied: pytz in /usr/local/lib/python3.8/dist-packages (from rpy2>=3.4.3->anndata2ri) (2022.6)\n",
            "Requirement already satisfied: jinja2 in /usr/local/lib/python3.8/dist-packages (from rpy2>=3.4.3->anndata2ri) (2.11.3)\n",
            "Requirement already satisfied: pycparser in /usr/local/lib/python3.8/dist-packages (from cffi>=1.10.0->rpy2>=3.4.3->anndata2ri) (2.21)\n",
            "Requirement already satisfied: packaging>=20 in /usr/local/lib/python3.8/dist-packages (from anndata->anndata2ri) (21.3)\n",
            "Requirement already satisfied: natsort in /usr/local/lib/python3.8/dist-packages (from anndata->anndata2ri) (5.5.0)\n",
            "Requirement already satisfied: pandas>=1.1.1 in /usr/local/lib/python3.8/dist-packages (from anndata->anndata2ri) (1.3.5)\n",
            "Requirement already satisfied: h5py>=3 in /usr/local/lib/python3.8/dist-packages (from anndata->anndata2ri) (3.1.0)\n",
            "Requirement already satisfied: scipy>1.4 in /usr/local/lib/python3.8/dist-packages (from anndata->anndata2ri) (1.7.3)\n",
            "Requirement already satisfied: numpy>=1.16.5 in /usr/local/lib/python3.8/dist-packages (from anndata->anndata2ri) (1.21.6)\n",
            "Requirement already satisfied: pyparsing!=3.0.5,>=2.0.2 in /usr/local/lib/python3.8/dist-packages (from packaging>=20->anndata->anndata2ri) (3.0.9)\n",
            "Requirement already satisfied: python-dateutil>=2.7.3 in /usr/local/lib/python3.8/dist-packages (from pandas>=1.1.1->anndata->anndata2ri) (2.8.2)\n",
            "Requirement already satisfied: six>=1.5 in /usr/local/lib/python3.8/dist-packages (from python-dateutil>=2.7.3->pandas>=1.1.1->anndata->anndata2ri) (1.15.0)\n",
            "Collecting dunamai\n",
            "  Downloading dunamai-1.15.0-py3-none-any.whl (23 kB)\n",
            "Requirement already satisfied: MarkupSafe>=0.23 in /usr/local/lib/python3.8/dist-packages (from jinja2->rpy2>=3.4.3->anndata2ri) (2.0.1)\n",
            "Collecting matplotlib>=3.4\n",
            "  Downloading matplotlib-3.6.2-cp38-cp38-manylinux_2_12_x86_64.manylinux2010_x86_64.whl (9.4 MB)\n",
            "\u001b[K     |████████████████████████████████| 9.4 MB 57.3 MB/s \n",
            "\u001b[?25hRequirement already satisfied: statsmodels>=0.10.0rc2 in /usr/local/lib/python3.8/dist-packages (from scanpy[leiden]) (0.12.2)\n",
            "Requirement already satisfied: joblib in /usr/local/lib/python3.8/dist-packages (from scanpy[leiden]) (1.2.0)\n",
            "Requirement already satisfied: seaborn in /usr/local/lib/python3.8/dist-packages (from scanpy[leiden]) (0.11.2)\n",
            "Requirement already satisfied: patsy in /usr/local/lib/python3.8/dist-packages (from scanpy[leiden]) (0.5.3)\n",
            "Requirement already satisfied: networkx>=2.3 in /usr/local/lib/python3.8/dist-packages (from scanpy[leiden]) (2.8.8)\n",
            "Requirement already satisfied: scikit-learn>=0.22 in /usr/local/lib/python3.8/dist-packages (from scanpy[leiden]) (1.0.2)\n",
            "Collecting session-info\n",
            "  Downloading session_info-1.0.0.tar.gz (24 kB)\n",
            "Collecting umap-learn>=0.3.10\n",
            "  Downloading umap-learn-0.5.3.tar.gz (88 kB)\n",
            "\u001b[K     |████████████████████████████████| 88 kB 6.3 MB/s \n",
            "\u001b[?25hRequirement already satisfied: tqdm in /usr/local/lib/python3.8/dist-packages (from scanpy[leiden]) (4.64.1)\n",
            "Requirement already satisfied: numba>=0.41.0 in /usr/local/lib/python3.8/dist-packages (from scanpy[leiden]) (0.56.4)\n",
            "Collecting python-igraph\n",
            "  Downloading python-igraph-0.10.2.tar.gz (9.5 kB)\n",
            "Collecting leidenalg\n",
            "  Downloading leidenalg-0.9.1-cp38-cp38-manylinux_2_17_x86_64.manylinux2014_x86_64.whl (1.3 MB)\n",
            "\u001b[K     |████████████████████████████████| 1.3 MB 71.2 MB/s \n",
            "\u001b[?25hRequirement already satisfied: pillow>=6.2.0 in /usr/local/lib/python3.8/dist-packages (from matplotlib>=3.4->scanpy[leiden]) (7.1.2)\n",
            "Collecting contourpy>=1.0.1\n",
            "  Downloading contourpy-1.0.6-cp38-cp38-manylinux_2_17_x86_64.manylinux2014_x86_64.whl (295 kB)\n",
            "\u001b[K     |████████████████████████████████| 295 kB 57.8 MB/s \n",
            "\u001b[?25hRequirement already satisfied: kiwisolver>=1.0.1 in /usr/local/lib/python3.8/dist-packages (from matplotlib>=3.4->scanpy[leiden]) (1.4.4)\n",
            "Collecting fonttools>=4.22.0\n",
            "  Downloading fonttools-4.38.0-py3-none-any.whl (965 kB)\n",
            "\u001b[K     |████████████████████████████████| 965 kB 42.9 MB/s \n",
            "\u001b[?25hRequirement already satisfied: cycler>=0.10 in /usr/local/lib/python3.8/dist-packages (from matplotlib>=3.4->scanpy[leiden]) (0.11.0)\n",
            "Requirement already satisfied: importlib-metadata in /usr/local/lib/python3.8/dist-packages (from numba>=0.41.0->scanpy[leiden]) (5.1.0)\n",
            "Requirement already satisfied: setuptools in /usr/local/lib/python3.8/dist-packages (from numba>=0.41.0->scanpy[leiden]) (57.4.0)\n",
            "Requirement already satisfied: llvmlite<0.40,>=0.39.0dev0 in /usr/local/lib/python3.8/dist-packages (from numba>=0.41.0->scanpy[leiden]) (0.39.1)\n",
            "Requirement already satisfied: threadpoolctl>=2.0.0 in /usr/local/lib/python3.8/dist-packages (from scikit-learn>=0.22->scanpy[leiden]) (3.1.0)\n",
            "Collecting pynndescent>=0.5\n",
            "  Downloading pynndescent-0.5.8.tar.gz (1.1 MB)\n",
            "\u001b[K     |████████████████████████████████| 1.1 MB 63.8 MB/s \n",
            "\u001b[?25hRequirement already satisfied: zipp>=0.5 in /usr/local/lib/python3.8/dist-packages (from importlib-metadata->numba>=0.41.0->scanpy[leiden]) (3.11.0)\n",
            "Collecting igraph<0.11,>=0.10.0\n",
            "  Downloading igraph-0.10.2-cp38-cp38-manylinux_2_17_x86_64.manylinux2014_x86_64.whl (3.3 MB)\n",
            "\u001b[K     |████████████████████████████████| 3.3 MB 28.5 MB/s \n",
            "\u001b[?25hCollecting texttable>=1.6.2\n",
            "  Downloading texttable-1.6.7-py2.py3-none-any.whl (10 kB)\n",
            "Collecting stdlib_list\n",
            "  Downloading stdlib_list-0.8.0-py3-none-any.whl (63 kB)\n",
            "\u001b[K     |████████████████████████████████| 63 kB 1.9 MB/s \n",
            "\u001b[?25hBuilding wheels for collected packages: umap-learn, pynndescent, python-igraph, session-info\n",
            "  Building wheel for umap-learn (setup.py) ... \u001b[?25l\u001b[?25hdone\n",
            "  Created wheel for umap-learn: filename=umap_learn-0.5.3-py3-none-any.whl size=82829 sha256=f41635af5d670882f090b70005a934df6375b229c30fabd1edea76b0aa1866ab\n",
            "  Stored in directory: /root/.cache/pip/wheels/a9/3a/67/06a8950e053725912e6a8c42c4a3a241410f6487b8402542ea\n",
            "  Building wheel for pynndescent (setup.py) ... \u001b[?25l\u001b[?25hdone\n",
            "  Created wheel for pynndescent: filename=pynndescent-0.5.8-py3-none-any.whl size=55513 sha256=cdb0003c295e09161ede95cbe231b240a76054de1de1bde1830953ee33be5faa\n",
            "  Stored in directory: /root/.cache/pip/wheels/1c/63/3a/29954bca1a27ba100ed8c27973a78cb71b43dc67aed62e80c3\n",
            "  Building wheel for python-igraph (setup.py) ... \u001b[?25l\u001b[?25hdone\n",
            "  Created wheel for python-igraph: filename=python_igraph-0.10.2-py3-none-any.whl size=9074 sha256=226eb79c1ee001b9c45fa06c71ae183eeca0c79e460cb386b03ea02e6335ace8\n",
            "  Stored in directory: /root/.cache/pip/wheels/47/93/11/c7c992fab551e7a7fa504097aac4b992dac996aa1c81490afb\n",
            "  Building wheel for session-info (setup.py) ... \u001b[?25l\u001b[?25hdone\n",
            "  Created wheel for session-info: filename=session_info-1.0.0-py3-none-any.whl size=8046 sha256=c104cd8f6330d4b90d90489d87083e093245490703f14cf89f6d980772ecb1b5\n",
            "  Stored in directory: /root/.cache/pip/wheels/5c/1b/4d/111d73980c5c6a8e5e5905a19eccc34296cb359cac54c6c5b9\n",
            "Successfully built umap-learn pynndescent python-igraph session-info\n",
            "Installing collected packages: fonttools, contourpy, texttable, stdlib-list, pynndescent, matplotlib, umap-learn, session-info, igraph, dunamai, anndata, scanpy, python-igraph, leidenalg, get-version, anndata2ri\n",
            "  Attempting uninstall: matplotlib\n",
            "    Found existing installation: matplotlib 3.2.2\n",
            "    Uninstalling matplotlib-3.2.2:\n",
            "      Successfully uninstalled matplotlib-3.2.2\n",
            "Successfully installed anndata-0.8.0 anndata2ri-1.1 contourpy-1.0.6 dunamai-1.15.0 fonttools-4.38.0 get-version-3.5.4 igraph-0.10.2 leidenalg-0.9.1 matplotlib-3.6.2 pynndescent-0.5.8 python-igraph-0.10.2 scanpy-1.9.1 session-info-1.0.0 stdlib-list-0.8.0 texttable-1.6.7 umap-learn-0.5.3\n"
          ]
        }
      ]
    },
    {
      "cell_type": "code",
      "source": [
        "import anndata2ri\n",
        "anndata2ri.activate()\n",
        "%load_ext rpy2.ipython\n",
        "%R .libPaths(\"usr/local/lib/R/site-library/\")"
      ],
      "metadata": {
        "colab": {
          "base_uri": "https://localhost:8080/",
          "height": 58
        },
        "id": "NBfkvvAtW3ef",
        "outputId": "225560c2-e513-448d-e65d-222d8ee1f0b1"
      },
      "execution_count": null,
      "outputs": [
        {
          "output_type": "execute_result",
          "data": {
            "text/plain": [
              "<rpy2.robjects.vectors.StrVector object at 0x7f429f291540> [RTYPES.STRSXP]\n",
              "R classes: ('character',)\n",
              "['/content/..., '/usr/loca..., '/usr/lib/..., '/usr/lib/...]"
            ],
            "text/html": [
              "\n",
              "        <span>StrVector with 4 elements.</span>\n",
              "        <table>\n",
              "        <tbody>\n",
              "          <tr>\n",
              "          \n",
              "            <td>\n",
              "            '/content/...\n",
              "            </td>\n",
              "          \n",
              "            <td>\n",
              "            '/usr/loca...\n",
              "            </td>\n",
              "          \n",
              "            <td>\n",
              "            '/usr/lib/...\n",
              "            </td>\n",
              "          \n",
              "            <td>\n",
              "            '/usr/lib/...\n",
              "            </td>\n",
              "          \n",
              "          </tr>\n",
              "        </tbody>\n",
              "        </table>\n",
              "        "
            ]
          },
          "metadata": {},
          "execution_count": 1
        }
      ]
    },
    {
      "cell_type": "code",
      "source": [
        "!gdown \"1Ctq4EmV2ps1dMiFcbqW467ywezRSGGN0&confirm=t\"\n",
        "!unzip PBMC_10k.zip"
      ],
      "metadata": {
        "colab": {
          "base_uri": "https://localhost:8080/"
        },
        "id": "T5yh6h6C95UY",
        "outputId": "2e72b5f9-b294-465a-836f-14381d0a8078"
      },
      "execution_count": null,
      "outputs": [
        {
          "output_type": "stream",
          "name": "stdout",
          "text": [
            "Downloading...\n",
            "From: https://drive.google.com/uc?id=1Ctq4EmV2ps1dMiFcbqW467ywezRSGGN0&confirm=t\n",
            "To: /content/PBMC_10k.zip\n",
            "100% 345M/345M [00:03<00:00, 98.6MB/s]\n",
            "Archive:  PBMC_10k.zip\n",
            "  inflating: filtered_feature_bc_matrix.h5  \n",
            "  inflating: filtered_feature_bc_matrix.tar.gz  \n",
            "  inflating: metrics_summary.csv     \n",
            "  inflating: raw_feature_bc_matrix.h5  \n",
            "  inflating: raw_feature_bc_matrix.tar.gz  \n",
            "  inflating: web_summary.html        \n"
          ]
        }
      ]
    },
    {
      "cell_type": "code",
      "source": [
        "!tar -xvzf filtered_feature_bc_matrix.tar.gz"
      ],
      "metadata": {
        "colab": {
          "base_uri": "https://localhost:8080/"
        },
        "id": "GxAKM04D_yqv",
        "outputId": "a70e24d2-b131-41cd-dd98-4ae260f3937b"
      },
      "execution_count": null,
      "outputs": [
        {
          "output_type": "stream",
          "name": "stdout",
          "text": [
            "filtered_feature_bc_matrix/\n",
            "filtered_feature_bc_matrix/matrix.mtx.gz\n",
            "filtered_feature_bc_matrix/features.tsv.gz\n",
            "filtered_feature_bc_matrix/barcodes.tsv.gz\n"
          ]
        }
      ]
    },
    {
      "cell_type": "code",
      "source": [
        "import scanpy as sc\n",
        "\n",
        "adata = sc.read_10x_mtx(\"filtered_feature_bc_matrix\")"
      ],
      "metadata": {
        "id": "UZsOHfJUFQB7"
      },
      "execution_count": null,
      "outputs": []
    },
    {
      "cell_type": "code",
      "source": [
        "import rpy2.robjects as ro"
      ],
      "metadata": {
        "id": "k72zyR7xWj2W"
      },
      "execution_count": null,
      "outputs": []
    },
    {
      "cell_type": "markdown",
      "source": [
        "### 1. Разбиение одного объекта AnnData на список других, соответствующих каждому индивидуальному батчу"
      ],
      "metadata": {
        "id": "3xgVcIDaBc0M"
      }
    },
    {
      "cell_type": "code",
      "source": [
        "#функция принимает на вход объект типа AnnData и имя колонки с batch\n",
        "#функция возращает список объектов AnnData, соответствующих каждому индивидуальному батчу\n",
        "def split_batch(adata, batch_col_name):\n",
        "  res_list = []\n",
        "  batch = adata.obs[batch_col_name].unique()\n",
        "  for i in batch:\n",
        "    res_list.append(adata[adata.obs[batch_col_name] == i])\n",
        "  \n",
        "  return res_list"
      ],
      "metadata": {
        "id": "grnHPeAtBkAI"
      },
      "execution_count": null,
      "outputs": []
    },
    {
      "cell_type": "code",
      "source": [
        "adata"
      ],
      "metadata": {
        "colab": {
          "base_uri": "https://localhost:8080/"
        },
        "id": "u_hBBJ85F-6f",
        "outputId": "8fcfca68-4936-4e6d-ef83-baa3c774600a"
      },
      "execution_count": null,
      "outputs": [
        {
          "output_type": "execute_result",
          "data": {
            "text/plain": [
              "AnnData object with n_obs × n_vars = 11996 × 36601\n",
              "    var: 'gene_ids', 'feature_types'"
            ]
          },
          "metadata": {},
          "execution_count": 6
        }
      ]
    },
    {
      "cell_type": "code",
      "source": [
        "adata.obs[\"batch\"] = [1] * 5000 + [2] * 6996\n",
        "#проверка\n",
        "res_list = split_batch(adata, \"batch\")\n",
        "res_list[0].obs"
      ],
      "metadata": {
        "colab": {
          "base_uri": "https://localhost:8080/",
          "height": 424
        },
        "id": "EHskhI9xE2eI",
        "outputId": "ae726b35-b64a-494e-dddd-be55eb4a2207"
      },
      "execution_count": null,
      "outputs": [
        {
          "output_type": "execute_result",
          "data": {
            "text/plain": [
              "                    batch\n",
              "AAACCCAAGGCCCAAA-1      1\n",
              "AAACCCAAGTAATACG-1      1\n",
              "AAACCCAAGTCACACT-1      1\n",
              "AAACCCACAAAGCGTG-1      1\n",
              "AAACCCACAATCGAAA-1      1\n",
              "...                   ...\n",
              "CTAGGTACAAGAGCTG-1      1\n",
              "CTAGGTACAATCTGCA-1      1\n",
              "CTAGGTACACTGGAAG-1      1\n",
              "CTAGGTACAGGACGAT-1      1\n",
              "CTAGGTACAGTTTGGT-1      1\n",
              "\n",
              "[5000 rows x 1 columns]"
            ],
            "text/html": [
              "\n",
              "  <div id=\"df-21d26a5a-f6a4-4c6f-aa82-fed1939b7325\">\n",
              "    <div class=\"colab-df-container\">\n",
              "      <div>\n",
              "<style scoped>\n",
              "    .dataframe tbody tr th:only-of-type {\n",
              "        vertical-align: middle;\n",
              "    }\n",
              "\n",
              "    .dataframe tbody tr th {\n",
              "        vertical-align: top;\n",
              "    }\n",
              "\n",
              "    .dataframe thead th {\n",
              "        text-align: right;\n",
              "    }\n",
              "</style>\n",
              "<table border=\"1\" class=\"dataframe\">\n",
              "  <thead>\n",
              "    <tr style=\"text-align: right;\">\n",
              "      <th></th>\n",
              "      <th>batch</th>\n",
              "    </tr>\n",
              "  </thead>\n",
              "  <tbody>\n",
              "    <tr>\n",
              "      <th>AAACCCAAGGCCCAAA-1</th>\n",
              "      <td>1</td>\n",
              "    </tr>\n",
              "    <tr>\n",
              "      <th>AAACCCAAGTAATACG-1</th>\n",
              "      <td>1</td>\n",
              "    </tr>\n",
              "    <tr>\n",
              "      <th>AAACCCAAGTCACACT-1</th>\n",
              "      <td>1</td>\n",
              "    </tr>\n",
              "    <tr>\n",
              "      <th>AAACCCACAAAGCGTG-1</th>\n",
              "      <td>1</td>\n",
              "    </tr>\n",
              "    <tr>\n",
              "      <th>AAACCCACAATCGAAA-1</th>\n",
              "      <td>1</td>\n",
              "    </tr>\n",
              "    <tr>\n",
              "      <th>...</th>\n",
              "      <td>...</td>\n",
              "    </tr>\n",
              "    <tr>\n",
              "      <th>CTAGGTACAAGAGCTG-1</th>\n",
              "      <td>1</td>\n",
              "    </tr>\n",
              "    <tr>\n",
              "      <th>CTAGGTACAATCTGCA-1</th>\n",
              "      <td>1</td>\n",
              "    </tr>\n",
              "    <tr>\n",
              "      <th>CTAGGTACACTGGAAG-1</th>\n",
              "      <td>1</td>\n",
              "    </tr>\n",
              "    <tr>\n",
              "      <th>CTAGGTACAGGACGAT-1</th>\n",
              "      <td>1</td>\n",
              "    </tr>\n",
              "    <tr>\n",
              "      <th>CTAGGTACAGTTTGGT-1</th>\n",
              "      <td>1</td>\n",
              "    </tr>\n",
              "  </tbody>\n",
              "</table>\n",
              "<p>5000 rows × 1 columns</p>\n",
              "</div>\n",
              "      <button class=\"colab-df-convert\" onclick=\"convertToInteractive('df-21d26a5a-f6a4-4c6f-aa82-fed1939b7325')\"\n",
              "              title=\"Convert this dataframe to an interactive table.\"\n",
              "              style=\"display:none;\">\n",
              "        \n",
              "  <svg xmlns=\"http://www.w3.org/2000/svg\" height=\"24px\"viewBox=\"0 0 24 24\"\n",
              "       width=\"24px\">\n",
              "    <path d=\"M0 0h24v24H0V0z\" fill=\"none\"/>\n",
              "    <path d=\"M18.56 5.44l.94 2.06.94-2.06 2.06-.94-2.06-.94-.94-2.06-.94 2.06-2.06.94zm-11 1L8.5 8.5l.94-2.06 2.06-.94-2.06-.94L8.5 2.5l-.94 2.06-2.06.94zm10 10l.94 2.06.94-2.06 2.06-.94-2.06-.94-.94-2.06-.94 2.06-2.06.94z\"/><path d=\"M17.41 7.96l-1.37-1.37c-.4-.4-.92-.59-1.43-.59-.52 0-1.04.2-1.43.59L10.3 9.45l-7.72 7.72c-.78.78-.78 2.05 0 2.83L4 21.41c.39.39.9.59 1.41.59.51 0 1.02-.2 1.41-.59l7.78-7.78 2.81-2.81c.8-.78.8-2.07 0-2.86zM5.41 20L4 18.59l7.72-7.72 1.47 1.35L5.41 20z\"/>\n",
              "  </svg>\n",
              "      </button>\n",
              "      \n",
              "  <style>\n",
              "    .colab-df-container {\n",
              "      display:flex;\n",
              "      flex-wrap:wrap;\n",
              "      gap: 12px;\n",
              "    }\n",
              "\n",
              "    .colab-df-convert {\n",
              "      background-color: #E8F0FE;\n",
              "      border: none;\n",
              "      border-radius: 50%;\n",
              "      cursor: pointer;\n",
              "      display: none;\n",
              "      fill: #1967D2;\n",
              "      height: 32px;\n",
              "      padding: 0 0 0 0;\n",
              "      width: 32px;\n",
              "    }\n",
              "\n",
              "    .colab-df-convert:hover {\n",
              "      background-color: #E2EBFA;\n",
              "      box-shadow: 0px 1px 2px rgba(60, 64, 67, 0.3), 0px 1px 3px 1px rgba(60, 64, 67, 0.15);\n",
              "      fill: #174EA6;\n",
              "    }\n",
              "\n",
              "    [theme=dark] .colab-df-convert {\n",
              "      background-color: #3B4455;\n",
              "      fill: #D2E3FC;\n",
              "    }\n",
              "\n",
              "    [theme=dark] .colab-df-convert:hover {\n",
              "      background-color: #434B5C;\n",
              "      box-shadow: 0px 1px 3px 1px rgba(0, 0, 0, 0.15);\n",
              "      filter: drop-shadow(0px 1px 2px rgba(0, 0, 0, 0.3));\n",
              "      fill: #FFFFFF;\n",
              "    }\n",
              "  </style>\n",
              "\n",
              "      <script>\n",
              "        const buttonEl =\n",
              "          document.querySelector('#df-21d26a5a-f6a4-4c6f-aa82-fed1939b7325 button.colab-df-convert');\n",
              "        buttonEl.style.display =\n",
              "          google.colab.kernel.accessAllowed ? 'block' : 'none';\n",
              "\n",
              "        async function convertToInteractive(key) {\n",
              "          const element = document.querySelector('#df-21d26a5a-f6a4-4c6f-aa82-fed1939b7325');\n",
              "          const dataTable =\n",
              "            await google.colab.kernel.invokeFunction('convertToInteractive',\n",
              "                                                     [key], {});\n",
              "          if (!dataTable) return;\n",
              "\n",
              "          const docLinkHtml = 'Like what you see? Visit the ' +\n",
              "            '<a target=\"_blank\" href=https://colab.research.google.com/notebooks/data_table.ipynb>data table notebook</a>'\n",
              "            + ' to learn more about interactive tables.';\n",
              "          element.innerHTML = '';\n",
              "          dataTable['output_type'] = 'display_data';\n",
              "          await google.colab.output.renderOutput(dataTable, element);\n",
              "          const docLink = document.createElement('div');\n",
              "          docLink.innerHTML = docLinkHtml;\n",
              "          element.appendChild(docLink);\n",
              "        }\n",
              "      </script>\n",
              "    </div>\n",
              "  </div>\n",
              "  "
            ]
          },
          "metadata": {},
          "execution_count": 7
        }
      ]
    },
    {
      "cell_type": "markdown",
      "source": [
        "###2. Создание нового объекта со случайными N клетками и M генами из изначального"
      ],
      "metadata": {
        "id": "t_Yf0VW8HTww"
      }
    },
    {
      "cell_type": "code",
      "source": [
        "#функция принимает на вход объект типа AnnData; n - количество клеток; m - количество генов\n",
        "#функция выдает объект типа AnnData со случайными N клетками и M генами из изначального\n",
        "from random import sample\n",
        "\n",
        "def random_AnnData(adata, n, m):\n",
        "  res_adata = adata[sample(list(adata.obs_names), n)]\n",
        "  res_adata = res_adata[:, sample(list(res_adata.var_names), m)]\n",
        "\n",
        "  return res_adata"
      ],
      "metadata": {
        "id": "pgANjeWsHYgw"
      },
      "execution_count": null,
      "outputs": []
    },
    {
      "cell_type": "code",
      "source": [
        "#проверка\n",
        "n = 1000\n",
        "m = 2000\n",
        "adata_random = random_AnnData(adata, n, m)\n",
        "adata_random"
      ],
      "metadata": {
        "colab": {
          "base_uri": "https://localhost:8080/"
        },
        "id": "Lq5NTJoNRjE0",
        "outputId": "dc6ec38f-002d-44a3-f6c9-9fc0f0d16161"
      },
      "execution_count": null,
      "outputs": [
        {
          "output_type": "execute_result",
          "data": {
            "text/plain": [
              "View of AnnData object with n_obs × n_vars = 1000 × 2000\n",
              "    obs: 'batch'\n",
              "    var: 'gene_ids', 'feature_types'"
            ]
          },
          "metadata": {},
          "execution_count": 9
        }
      ]
    },
    {
      "cell_type": "markdown",
      "source": [
        "###3. Сохранение вашего AnnData-объекта как Seurat-объекта в формате .rds"
      ],
      "metadata": {
        "id": "rTQ0Mh_AIi3k"
      }
    },
    {
      "cell_type": "code",
      "source": [
        "#функция принимает на вход объект типа AnnData и путь к файлу, куда сохранить \n",
        "#функция создает rds файл с AnnData как Seurat-объектом\n",
        "def save_AnnData_as_rds(adata, file_name):\n",
        "  ro.r(\"library(Seurat)\")\n",
        "  ro.globalenv['adata'] = adata\n",
        "  ro.globalenv['file_name'] = file_name\n",
        "  df = ro.r('seurat_res <- as.Seurat(adata, data=NULL, counts = \"X\")')\n",
        "  save_rds = ro.r('saveRDS(seurat_res, file = file_name)')"
      ],
      "metadata": {
        "id": "YWwT5tO6Im63"
      },
      "execution_count": 39,
      "outputs": []
    },
    {
      "cell_type": "code",
      "source": [
        "#проверка\n",
        "save_AnnData_as_rds(adata, 'adata.rds')"
      ],
      "metadata": {
        "id": "jXdZi0qodUkq"
      },
      "execution_count": 40,
      "outputs": []
    }
  ]
}