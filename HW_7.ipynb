{
  "cells": [
    {
      "cell_type": "markdown",
      "metadata": {
        "id": "view-in-github",
        "colab_type": "text"
      },
      "source": [
        "<a href=\"https://colab.research.google.com/github/garkul/Transcriptomics.msu/blob/master/HW_7.ipynb\" target=\"_parent\"><img src=\"https://colab.research.google.com/assets/colab-badge.svg\" alt=\"Open In Colab\"/></a>"
      ]
    },
    {
      "cell_type": "markdown",
      "metadata": {
        "id": "ydzEWgl5k_C7"
      },
      "source": [
        "<h1>Домашнее задание 7</h1>\n",
        "<h3> Гаркуль Лидия 4 курс ФББ</h3>\n",
        "\n",
        "<b>Задание:</b><br>\n",
        "1. Протестируйте написанный нами EM-алгоритм на устойчивость к параметрам изначальной инициализации.\n",
        "2. Напишите NextFlow-пайплайн, который бы включал в себя определение экспрессий при помощи kallisto | bustools, а потом устранение дублетов при помощи DropletUtils."
      ]
    },
    {
      "cell_type": "markdown",
      "metadata": {
        "id": "ZBXfRjH9mnBa"
      },
      "source": [
        "###Скачиваем необходимые пакеты"
      ]
    },
    {
      "cell_type": "code",
      "execution_count": null,
      "metadata": {
        "colab": {
          "base_uri": "https://localhost:8080/",
          "height": 1000
        },
        "id": "GQDrE08fmmjj",
        "outputId": "30b2f733-4b7b-4e80-8b59-3f5d6958eeb2"
      },
      "outputs": [
        {
          "name": "stdout",
          "output_type": "stream",
          "text": [
            "Looking in indexes: https://pypi.org/simple, https://us-python.pkg.dev/colab-wheels/public/simple/\n",
            "Collecting scanpy\n",
            "  Downloading scanpy-1.9.1-py3-none-any.whl (2.0 MB)\n",
            "\u001b[K     |████████████████████████████████| 2.0 MB 3.8 MB/s \n",
            "\u001b[?25hCollecting scrublet\n",
            "  Downloading scrublet-0.2.3-py3-none-any.whl (15 kB)\n",
            "Collecting scikit-misc\n",
            "  Downloading scikit_misc-0.1.4-cp38-cp38-manylinux_2_5_x86_64.manylinux1_x86_64.whl (8.8 MB)\n",
            "\u001b[K     |████████████████████████████████| 8.8 MB 49.8 MB/s \n",
            "\u001b[?25hCollecting anndata2ri\n",
            "  Downloading anndata2ri-1.1-py3-none-any.whl (25 kB)\n",
            "Requirement already satisfied: scipy>=1.4 in /usr/local/lib/python3.8/dist-packages (from scanpy) (1.7.3)\n",
            "Requirement already satisfied: natsort in /usr/local/lib/python3.8/dist-packages (from scanpy) (5.5.0)\n",
            "Requirement already satisfied: numba>=0.41.0 in /usr/local/lib/python3.8/dist-packages (from scanpy) (0.56.4)\n",
            "Requirement already satisfied: seaborn in /usr/local/lib/python3.8/dist-packages (from scanpy) (0.11.2)\n",
            "Requirement already satisfied: numpy>=1.17.0 in /usr/local/lib/python3.8/dist-packages (from scanpy) (1.21.6)\n",
            "Requirement already satisfied: h5py>=3 in /usr/local/lib/python3.8/dist-packages (from scanpy) (3.1.0)\n",
            "Requirement already satisfied: statsmodels>=0.10.0rc2 in /usr/local/lib/python3.8/dist-packages (from scanpy) (0.12.2)\n",
            "Requirement already satisfied: patsy in /usr/local/lib/python3.8/dist-packages (from scanpy) (0.5.3)\n",
            "Requirement already satisfied: joblib in /usr/local/lib/python3.8/dist-packages (from scanpy) (1.2.0)\n",
            "Requirement already satisfied: packaging in /usr/local/lib/python3.8/dist-packages (from scanpy) (21.3)\n",
            "Collecting session-info\n",
            "  Downloading session_info-1.0.0.tar.gz (24 kB)\n",
            "Requirement already satisfied: pandas>=1.0 in /usr/local/lib/python3.8/dist-packages (from scanpy) (1.3.5)\n",
            "Requirement already satisfied: tqdm in /usr/local/lib/python3.8/dist-packages (from scanpy) (4.64.1)\n",
            "Collecting anndata>=0.7.4\n",
            "  Downloading anndata-0.8.0-py3-none-any.whl (96 kB)\n",
            "\u001b[K     |████████████████████████████████| 96 kB 5.3 MB/s \n",
            "\u001b[?25hRequirement already satisfied: networkx>=2.3 in /usr/local/lib/python3.8/dist-packages (from scanpy) (2.8.8)\n",
            "Collecting umap-learn>=0.3.10\n",
            "  Downloading umap-learn-0.5.3.tar.gz (88 kB)\n",
            "\u001b[K     |████████████████████████████████| 88 kB 6.9 MB/s \n",
            "\u001b[?25hCollecting matplotlib>=3.4\n",
            "  Downloading matplotlib-3.6.2-cp38-cp38-manylinux_2_12_x86_64.manylinux2010_x86_64.whl (9.4 MB)\n",
            "\u001b[K     |████████████████████████████████| 9.4 MB 13.4 MB/s \n",
            "\u001b[?25hRequirement already satisfied: scikit-learn>=0.22 in /usr/local/lib/python3.8/dist-packages (from scanpy) (1.0.2)\n",
            "Collecting fonttools>=4.22.0\n",
            "  Downloading fonttools-4.38.0-py3-none-any.whl (965 kB)\n",
            "\u001b[K     |████████████████████████████████| 965 kB 45.9 MB/s \n",
            "\u001b[?25hRequirement already satisfied: pillow>=6.2.0 in /usr/local/lib/python3.8/dist-packages (from matplotlib>=3.4->scanpy) (7.1.2)\n",
            "Requirement already satisfied: python-dateutil>=2.7 in /usr/local/lib/python3.8/dist-packages (from matplotlib>=3.4->scanpy) (2.8.2)\n",
            "Collecting contourpy>=1.0.1\n",
            "  Downloading contourpy-1.0.6-cp38-cp38-manylinux_2_17_x86_64.manylinux2014_x86_64.whl (295 kB)\n",
            "\u001b[K     |████████████████████████████████| 295 kB 65.7 MB/s \n",
            "\u001b[?25hRequirement already satisfied: kiwisolver>=1.0.1 in /usr/local/lib/python3.8/dist-packages (from matplotlib>=3.4->scanpy) (1.4.4)\n",
            "Requirement already satisfied: cycler>=0.10 in /usr/local/lib/python3.8/dist-packages (from matplotlib>=3.4->scanpy) (0.11.0)\n",
            "Requirement already satisfied: pyparsing>=2.2.1 in /usr/local/lib/python3.8/dist-packages (from matplotlib>=3.4->scanpy) (3.0.9)\n",
            "Requirement already satisfied: importlib-metadata in /usr/local/lib/python3.8/dist-packages (from numba>=0.41.0->scanpy) (5.1.0)\n",
            "Requirement already satisfied: setuptools in /usr/local/lib/python3.8/dist-packages (from numba>=0.41.0->scanpy) (57.4.0)\n",
            "Requirement already satisfied: llvmlite<0.40,>=0.39.0dev0 in /usr/local/lib/python3.8/dist-packages (from numba>=0.41.0->scanpy) (0.39.1)\n",
            "Requirement already satisfied: pytz>=2017.3 in /usr/local/lib/python3.8/dist-packages (from pandas>=1.0->scanpy) (2022.6)\n",
            "Requirement already satisfied: six>=1.5 in /usr/local/lib/python3.8/dist-packages (from python-dateutil>=2.7->matplotlib>=3.4->scanpy) (1.15.0)\n",
            "Requirement already satisfied: threadpoolctl>=2.0.0 in /usr/local/lib/python3.8/dist-packages (from scikit-learn>=0.22->scanpy) (3.1.0)\n",
            "Collecting pynndescent>=0.5\n",
            "  Downloading pynndescent-0.5.8.tar.gz (1.1 MB)\n",
            "\u001b[K     |████████████████████████████████| 1.1 MB 50.6 MB/s \n",
            "\u001b[?25hRequirement already satisfied: cython in /usr/local/lib/python3.8/dist-packages (from scrublet) (0.29.32)\n",
            "Collecting annoy\n",
            "  Downloading annoy-1.17.1.tar.gz (647 kB)\n",
            "\u001b[K     |████████████████████████████████| 647 kB 49.9 MB/s \n",
            "\u001b[?25hRequirement already satisfied: scikit-image in /usr/local/lib/python3.8/dist-packages (from scrublet) (0.18.3)\n",
            "Requirement already satisfied: rpy2>=3.4.3 in /usr/local/lib/python3.8/dist-packages (from anndata2ri) (3.5.5)\n",
            "Collecting get-version\n",
            "  Downloading get_version-3.5.4-py3-none-any.whl (18 kB)\n",
            "Requirement already satisfied: tzlocal in /usr/local/lib/python3.8/dist-packages (from anndata2ri) (1.5.1)\n",
            "Requirement already satisfied: jinja2 in /usr/local/lib/python3.8/dist-packages (from rpy2>=3.4.3->anndata2ri) (2.11.3)\n",
            "Requirement already satisfied: cffi>=1.10.0 in /usr/local/lib/python3.8/dist-packages (from rpy2>=3.4.3->anndata2ri) (1.15.1)\n",
            "Requirement already satisfied: pycparser in /usr/local/lib/python3.8/dist-packages (from cffi>=1.10.0->rpy2>=3.4.3->anndata2ri) (2.21)\n",
            "Collecting dunamai\n",
            "  Downloading dunamai-1.15.0-py3-none-any.whl (23 kB)\n",
            "Requirement already satisfied: zipp>=0.5 in /usr/local/lib/python3.8/dist-packages (from importlib-metadata->numba>=0.41.0->scanpy) (3.11.0)\n",
            "Requirement already satisfied: MarkupSafe>=0.23 in /usr/local/lib/python3.8/dist-packages (from jinja2->rpy2>=3.4.3->anndata2ri) (2.0.1)\n",
            "Requirement already satisfied: imageio>=2.3.0 in /usr/local/lib/python3.8/dist-packages (from scikit-image->scrublet) (2.9.0)\n",
            "Requirement already satisfied: tifffile>=2019.7.26 in /usr/local/lib/python3.8/dist-packages (from scikit-image->scrublet) (2022.10.10)\n",
            "Requirement already satisfied: PyWavelets>=1.1.1 in /usr/local/lib/python3.8/dist-packages (from scikit-image->scrublet) (1.4.1)\n",
            "Collecting stdlib_list\n",
            "  Downloading stdlib_list-0.8.0-py3-none-any.whl (63 kB)\n",
            "\u001b[K     |████████████████████████████████| 63 kB 2.2 MB/s \n",
            "\u001b[?25hBuilding wheels for collected packages: umap-learn, pynndescent, annoy, session-info\n",
            "  Building wheel for umap-learn (setup.py) ... \u001b[?25l\u001b[?25hdone\n",
            "  Created wheel for umap-learn: filename=umap_learn-0.5.3-py3-none-any.whl size=82829 sha256=e89fa15f63c1162b75cbf62222187b8e3834a3f3d61f00586314160cb10ec2e4\n",
            "  Stored in directory: /root/.cache/pip/wheels/a9/3a/67/06a8950e053725912e6a8c42c4a3a241410f6487b8402542ea\n",
            "  Building wheel for pynndescent (setup.py) ... \u001b[?25l\u001b[?25hdone\n",
            "  Created wheel for pynndescent: filename=pynndescent-0.5.8-py3-none-any.whl size=55513 sha256=ca296f7c9f4a706b0d07b8905e5a37560e89c1382616359c1ebe93828df0a6aa\n",
            "  Stored in directory: /root/.cache/pip/wheels/1c/63/3a/29954bca1a27ba100ed8c27973a78cb71b43dc67aed62e80c3\n",
            "  Building wheel for annoy (setup.py) ... \u001b[?25l\u001b[?25hdone\n",
            "  Created wheel for annoy: filename=annoy-1.17.1-cp38-cp38-linux_x86_64.whl size=394077 sha256=3396e75f854871e509728fd2591b30033b9022ad342237aca742c257a04e3d3b\n",
            "  Stored in directory: /root/.cache/pip/wheels/f9/93/19/30511c4a9ae6b4937455a134c34a39e13943e2c6f46fcd2ed2\n",
            "  Building wheel for session-info (setup.py) ... \u001b[?25l\u001b[?25hdone\n",
            "  Created wheel for session-info: filename=session_info-1.0.0-py3-none-any.whl size=8046 sha256=c4c02a91b6ec182a5cff1134b7bf40caeda26d5ecb82fda20d6c36b6f0878d97\n",
            "  Stored in directory: /root/.cache/pip/wheels/5c/1b/4d/111d73980c5c6a8e5e5905a19eccc34296cb359cac54c6c5b9\n",
            "Successfully built umap-learn pynndescent annoy session-info\n",
            "Installing collected packages: fonttools, contourpy, stdlib-list, pynndescent, matplotlib, dunamai, umap-learn, session-info, get-version, annoy, anndata, scrublet, scikit-misc, scanpy, anndata2ri\n",
            "  Attempting uninstall: matplotlib\n",
            "    Found existing installation: matplotlib 3.2.2\n",
            "    Uninstalling matplotlib-3.2.2:\n",
            "      Successfully uninstalled matplotlib-3.2.2\n",
            "Successfully installed anndata-0.8.0 anndata2ri-1.1 annoy-1.17.1 contourpy-1.0.6 dunamai-1.15.0 fonttools-4.38.0 get-version-3.5.4 matplotlib-3.6.2 pynndescent-0.5.8 scanpy-1.9.1 scikit-misc-0.1.4 scrublet-0.2.3 session-info-1.0.0 stdlib-list-0.8.0 umap-learn-0.5.3\n"
          ]
        },
        {
          "data": {
            "application/vnd.colab-display-data+json": {
              "pip_warning": {
                "packages": [
                  "matplotlib",
                  "mpl_toolkits"
                ]
              }
            }
          },
          "metadata": {},
          "output_type": "display_data"
        }
      ],
      "source": [
        "!pip3 install scanpy scrublet scikit-misc anndata2ri\n",
        "\n",
        "import os\n",
        "os.kill(os.getpid(), 9)"
      ]
    },
    {
      "cell_type": "code",
      "execution_count": null,
      "metadata": {
        "id": "WwSc8znkmygt"
      },
      "outputs": [],
      "source": [
        "import scanpy as sc\n",
        "import seaborn as sns\n",
        "import pandas as pd\n",
        "import numpy as np\n",
        "import scipy.stats as stats\n",
        "from scipy.special import logsumexp"
      ]
    },
    {
      "cell_type": "code",
      "execution_count": null,
      "metadata": {
        "colab": {
          "base_uri": "https://localhost:8080/"
        },
        "id": "JQLNz5edqfoC",
        "outputId": "8e02ff80-5eb4-477d-e435-329a0e3e8258"
      },
      "outputs": [
        {
          "name": "stdout",
          "output_type": "stream",
          "text": [
            "--2022-12-16 20:50:46--  https://cf.10xgenomics.com/samples/cell-exp/6.1.0/10k_PBMC_3p_nextgem_Chromium_X/10k_PBMC_3p_nextgem_Chromium_X_raw_feature_bc_matrix.h5\n",
            "Resolving cf.10xgenomics.com (cf.10xgenomics.com)... 104.18.0.173, 104.18.1.173, 2606:4700::6812:ad, ...\n",
            "Connecting to cf.10xgenomics.com (cf.10xgenomics.com)|104.18.0.173|:443... connected.\n",
            "HTTP request sent, awaiting response... 200 OK\n",
            "Length: 62760214 (60M) [binary/octet-stream]\n",
            "Saving to: ‘10k_PBMC_3p_nextgem_Chromium_X_raw_feature_bc_matrix.h5’\n",
            "\n",
            "10k_PBMC_3p_nextgem 100%[===================>]  59.85M  18.7MB/s    in 3.2s    \n",
            "\n",
            "2022-12-16 20:50:50 (18.7 MB/s) - ‘10k_PBMC_3p_nextgem_Chromium_X_raw_feature_bc_matrix.h5’ saved [62760214/62760214]\n",
            "\n"
          ]
        },
        {
          "name": "stderr",
          "output_type": "stream",
          "text": [
            "/usr/local/lib/python3.8/dist-packages/anndata/_core/anndata.py:1830: UserWarning: Variable names are not unique. To make them unique, call `.var_names_make_unique`.\n",
            "  utils.warn_names_duplicates(\"var\")\n"
          ]
        }
      ],
      "source": [
        "sc.set_figure_params(dpi=150)\n",
        "sns.set_style(\"ticks\")\n",
        "\n",
        "!wget https://cf.10xgenomics.com/samples/cell-exp/6.1.0/10k_PBMC_3p_nextgem_Chromium_X/10k_PBMC_3p_nextgem_Chromium_X_raw_feature_bc_matrix.h5\n",
        "adata = sc.read_10x_h5(\"10k_PBMC_3p_nextgem_Chromium_X_raw_feature_bc_matrix.h5\")\n",
        "adata.var_names_make_unique()"
      ]
    },
    {
      "cell_type": "code",
      "execution_count": null,
      "metadata": {
        "id": "rDbK6ibnwa5N"
      },
      "outputs": [],
      "source": [
        "!wget https://github.com/pachterlab/kallisto/releases/download/v0.46.0/kallisto_linux-v0.46.0.tar.gz\n",
        "!tar -xf kallisto_linux-v0.46.0.tar.gz\n",
        "!cp kallisto/kallisto /usr/local/bin/\n",
        "\n",
        "!wget https://github.com/BUStools/bustools/releases/download/v0.39.3/bustools_linux-v0.39.3.tar.gz\n",
        "!tar -xf bustools_linux-v0.39.3.tar.gz\n",
        "!cp bustools/bustools /usr/local/bin/"
      ]
    },
    {
      "cell_type": "markdown",
      "metadata": {
        "id": "ouU6bEcxmbZP"
      },
      "source": [
        "###1. Протестируйте написанный нами EM-алгоритм на устойчивость к параметрам изначальной инициализации."
      ]
    },
    {
      "cell_type": "code",
      "execution_count": null,
      "metadata": {
        "id": "L70yVwHvmaJe"
      },
      "outputs": [],
      "source": [
        "#EM с семинара:\n",
        "def E_step(X, params, draw=False):\n",
        "  LogProb = np.log([\n",
        "      stats.norm(params[\"mu_empty\"], params[\"sigma_empty\"]).pdf(X),\n",
        "      stats.norm(params[\"mu_int\"], params[\"sigma_int\"]).pdf(X), \n",
        "      stats.norm(params[\"mu_real\"], params[\"sigma_real\"]).pdf(X)\n",
        "  ])\n",
        "  logPrior = np.log([params[\"phi_empty\"], 1 - params[\"phi_real\"] - params[\"phi_empty\"], params[\"phi_real\"]])\n",
        "  logNum = logPrior + LogProb.T\n",
        "  RealSoftMax = logsumexp(logNum, axis=1)\n",
        "  probabilities = np.exp(logNum - np.array([RealSoftMax]).T)\n",
        "  return RealSoftMax, probabilities\n",
        "\n",
        "def M_step(X, params, probabilities):\n",
        "  prob_empty = probabilities[:, 0]\n",
        "  prob_int = probabilities[:, 1]\n",
        "  prob_real = probabilities[:, 2]\n",
        "\n",
        "  # Вычисление новых значений\n",
        "  phi_empty = prob_empty.sum() / len(X)\n",
        "  phi_real = prob_real.sum() / len(X)\n",
        "\n",
        "  mu_empty = prob_empty.dot(X) / np.sum(prob_empty)\n",
        "  mu_int = prob_int.dot(X) / np.sum(prob_int)\n",
        "  mu_real = prob_real.dot(X) / np.sum(prob_real)\n",
        "\n",
        "  sigma_empty = (np.sum(prob_empty * (X - mu_empty) ** 2) / np.sum(prob_empty)) ** 0.5\n",
        "  sigma_int = (np.sum(prob_int * (X - mu_int) ** 2) / np.sum(prob_int)) ** 0.5\n",
        "  sigma_real = (np.sum(prob_real * (X - mu_real) ** 2) / np.sum(prob_real)) ** 0.5\n",
        "\n",
        "  return {\n",
        "      \"phi_empty\" : phi_empty,\n",
        "      \"phi_real\" : phi_real,\n",
        "      \"mu_empty\" : mu_empty,\n",
        "      \"mu_int\" : mu_int,\n",
        "      \"mu_real\" : mu_real,\n",
        "      \"sigma_empty\": sigma_empty,\n",
        "      \"sigma_int\": sigma_int,\n",
        "      \"sigma_real\": sigma_real\n",
        "  }\n",
        "\n",
        "  def run_EM(X, params):\n",
        "    avg_allprob = []\n",
        "\n",
        "    while True:\n",
        "        allprob, probabilities = E_step(X, params)\n",
        "        avg_allprob.append(np.mean(probabilities))\n",
        "        if len(avg_allprob) > 2 and abs(avg_allprob[-1] - avg_allprob[-2]) < 0.00001:\n",
        "            break\n",
        "        params = M_step(X, params, probabilities)\n",
        "\n",
        "    allprob, probabilities = E_step(X, params)\n",
        "    forecasts = np.argmax(probabilities, axis=1)\n",
        "    return forecasts, probabilities, avg_allprob"
      ]
    },
    {
      "cell_type": "code",
      "execution_count": null,
      "metadata": {
        "colab": {
          "base_uri": "https://localhost:8080/"
        },
        "id": "Pbv3aPFrtKyk",
        "outputId": "6bb8a38f-a513-4da6-9f46-335465619c77"
      },
      "outputs": [
        {
          "data": {
            "text/plain": [
              "array([3.8066626, 4.0253515, 2.9957323, ..., 3.1354942, 3.465736 ,\n",
              "       3.218876 ], dtype=float32)"
            ]
          },
          "execution_count": 26,
          "metadata": {},
          "output_type": "execute_result"
        }
      ],
      "source": [
        "#как и в семинаре, уберем клетки с количеством umi меньше 10. Создадим np.array X для тестирования\n",
        "min_umi = 10\n",
        "adata = adata[adata.X.sum(axis=1).A.T[0] >= min_umi]\n",
        "X = np.log(adata.X.sum(axis=1).A.T[0])\n",
        "X"
      ]
    },
    {
      "cell_type": "code",
      "execution_count": null,
      "metadata": {
        "id": "do4Xx5jAtibf"
      },
      "outputs": [],
      "source": [
        "#зададим несколько вариантов парамеров\n",
        "expected_cells = 10000 / len(adata)\n",
        "\n",
        "params = {\n",
        "  \"phi_real\" : expected_cells,\n",
        "  \"phi_empty\" : (1 - expected_cells) / 2,\n",
        "  \"mu_real\" : np.log(10000),\n",
        "  \"mu_int\" : np.log(500),\n",
        "  \"mu_empty\" : np.log(10),\n",
        "  \"sigma_real\" : 1,\n",
        "  \"sigma_int\" : 1,\n",
        "  \"sigma_empty\" : 1\n",
        "}\n",
        "\n",
        "params = {\n",
        "  \"phi_real\" : 1,\n",
        "  \"phi_empty\" : 1,\n",
        "  \"mu_real\" : 1,\n",
        "  \"mu_int\" : 1,\n",
        "  \"mu_empty\" : 1,\n",
        "  \"sigma_real\" : 1,\n",
        "  \"sigma_int\" : 1,\n",
        "  \"sigma_empty\" : 1\n",
        "}"
      ]
    },
    {
      "cell_type": "code",
      "execution_count": null,
      "metadata": {
        "colab": {
          "background_save": true,
          "base_uri": "https://localhost:8080/"
        },
        "id": "VJOYId8CuNNo",
        "outputId": "a24fbd5f-0013-4e15-e01d-acd02ca40151"
      },
      "outputs": [
        {
          "name": "stderr",
          "output_type": "stream",
          "text": [
            "<ipython-input-25-e2ba2dd118a4>:8: RuntimeWarning: invalid value encountered in log\n",
            "  logPrior = np.log([params[\"phi_empty\"], 1 - params[\"phi_real\"] - params[\"phi_empty\"], params[\"phi_real\"]])\n"
          ]
        }
      ],
      "source": [
        "pred, prob, avg_allprob = run_EM(X, params)\n",
        "pred_1, prob_1, avg_allprob_1 = run_EM(X, params_1)"
      ]
    },
    {
      "cell_type": "markdown",
      "metadata": {
        "id": "yBLS5cIImePm"
      },
      "source": [
        "###2. Напишите NextFlow-пайплайн, который бы включал в себя определение экспрессий при помощи kallisto | bustools, а потом устранение дублетов при помощи DropletUtils.\n"
      ]
    },
    {
      "cell_type": "code",
      "execution_count": null,
      "metadata": {
        "id": "RvFzDXc4mgpm"
      },
      "outputs": [],
      "source": []
    },
    {
      "cell_type": "markdown",
      "metadata": {
        "id": "lh1JdC9LvFzK"
      },
      "source": [
        "\n",
        "\n",
        "```\n",
        "params.results_dir = \"results/\"\n",
        "reads_list = params.reads.split(\",\")\n",
        "params.index = \"transcriptome.idx\"\n",
        "\n",
        "log.info \"\"\n",
        "log.info \" KALLISTO | BUSTOOLS  >  DROPLETUTILS \"\n",
        "log.info \"=================================\"\n",
        "log.info \"reads number(s)         : ${reads_list}\"\n",
        "log.info \"Results location   : ${params.results_dir}\"\n",
        "log.info \"Index : ${params.index}\"\n",
        "\n",
        "process kallisto {\n",
        "  publishDir \"${params.results_dir}\"\n",
        "\n",
        "  input:\n",
        "  path x\n",
        "\n",
        "  output:\n",
        "  path \"results/*\"\n",
        "\n",
        "  script:\n",
        "    \"\"\"\n",
        "    $ kb count -i ${params.index} -g ${params.t2g} -x ${params.version_chem} -t2 -o ${params.results_dir} ${read}\n",
        "    \"\"\"\n",
        "}\n",
        "\n",
        "\n",
        "process DropletUtils {\n",
        "  publishDir \"${params.results_dir}\"\n",
        "\n",
        "  input:\n",
        "  path x\n",
        "\n",
        "  output:\n",
        "  path \"results/*\"\n",
        "\n",
        "  script:\n",
        "    \"\"\"\n",
        "    $ ro.r(\"library(DropletUtils)\")\n",
        "    $ ro.globalenv[\"adata_raw\"] = adata\n",
        "    $df = ro.r('e.out <- emptyDrops(assay(adata_raw))')\n",
        "    \"\"\"\n",
        "}\n",
        "\n",
        "\n",
        "workflow {\n",
        "  data = Channel.of( reads_list )\n",
        "  kallisto(data)\n",
        "  DropletUtils(kallisto.out)\n",
        "}\n",
        "```\n",
        "\n"
      ]
    }
  ],
  "metadata": {
    "colab": {
      "provenance": [],
      "authorship_tag": "ABX9TyMf0kIpfpicUuFS6cyeVL2G",
      "include_colab_link": true
    },
    "kernelspec": {
      "display_name": "Python 3",
      "name": "python3"
    },
    "language_info": {
      "name": "python"
    }
  },
  "nbformat": 4,
  "nbformat_minor": 0
}